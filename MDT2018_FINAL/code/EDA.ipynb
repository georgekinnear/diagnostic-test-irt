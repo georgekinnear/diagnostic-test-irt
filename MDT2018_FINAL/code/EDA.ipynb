{
 "cells": [
  {
   "cell_type": "code",
   "execution_count": 2,
   "metadata": {
    "collapsed": true
   },
   "outputs": [],
   "source": [
    "# Set plot size (for jupyter notebook)\n",
    "options(repr.plot.width  = 4, repr.plot.height = 3)"
   ]
  },
  {
   "cell_type": "code",
   "execution_count": 13,
   "metadata": {},
   "outputs": [
    {
     "name": "stderr",
     "output_type": "stream",
     "text": [
      "Warning message in eval(ei, envir):\n",
      "\"NAs introduced by coercion\"Warning message in eval(ei, envir):\n",
      "\"NAs introduced by coercion\"Warning message in eval(ei, envir):\n",
      "\"NAs introduced by coercion\"Warning message in eval(ei, envir):\n",
      "\"NAs introduced by coercion\"Warning message in eval(ei, envir):\n",
      "\"NAs introduced by coercion\"Warning message in eval(ei, envir):\n",
      "\"NAs introduced by coercion\"Warning message in eval(ei, envir):\n",
      "\"NAs introduced by coercion\"Warning message in eval(ei, envir):\n",
      "\"NAs introduced by coercion\"Warning message in eval(ei, envir):\n",
      "\"NAs introduced by coercion\"Warning message in eval(ei, envir):\n",
      "\"NAs introduced by coercion\"Warning message in eval(ei, envir):\n",
      "\"NAs introduced by coercion\"Warning message in eval(ei, envir):\n",
      "\"NAs introduced by coercion\"Warning message in eval(ei, envir):\n",
      "\"NAs introduced by coercion\"Warning message in eval(ei, envir):\n",
      "\"NAs introduced by coercion\"Warning message in eval(ei, envir):\n",
      "\"NAs introduced by coercion\"Warning message in eval(ei, envir):\n",
      "\"NAs introduced by coercion\"Warning message in eval(ei, envir):\n",
      "\"NAs introduced by coercion\"Warning message in eval(ei, envir):\n",
      "\"NAs introduced by coercion\"Warning message in eval(ei, envir):\n",
      "\"NAs introduced by coercion\"Warning message in eval(ei, envir):\n",
      "\"NAs introduced by coercion\"Warning message in eval(ei, envir):\n",
      "\"NAs introduced by coercion\"Warning message in eval(ei, envir):\n",
      "\"NAs introduced by coercion\"Warning message in eval(ei, envir):\n",
      "\"NAs introduced by coercion\"Warning message in eval(ei, envir):\n",
      "\"NAs introduced by coercion\"Warning message in eval(ei, envir):\n",
      "\"NAs introduced by coercion\"Warning message in eval(ei, envir):\n",
      "\"NAs introduced by coercion\"Warning message in eval(ei, envir):\n",
      "\"NAs introduced by coercion\"Warning message in eval(ei, envir):\n",
      "\"NAs introduced by coercion\"Warning message in eval(ei, envir):\n",
      "\"NAs introduced by coercion\"Warning message in eval(ei, envir):\n",
      "\"NAs introduced by coercion\"Warning message in eval(ei, envir):\n",
      "\"NAs introduced by coercion\"Warning message in eval(ei, envir):\n",
      "\"NAs introduced by coercion\"Warning message in eval(ei, envir):\n",
      "\"NAs introduced by coercion\"Warning message in eval(ei, envir):\n",
      "\"NAs introduced by coercion\"Warning message in eval(ei, envir):\n",
      "\"NAs introduced by coercion\"Warning message in eval(ei, envir):\n",
      "\"NAs introduced by coercion\"Warning message in eval(ei, envir):\n",
      "\"NAs introduced by coercion\"Warning message in eval(ei, envir):\n",
      "\"NAs introduced by coercion\"Warning message in eval(ei, envir):\n",
      "\"NAs introduced by coercion\"Warning message in eval(ei, envir):\n",
      "\"NAs introduced by coercion\""
     ]
    }
   ],
   "source": [
    "library(RColorBrewer)\n",
    "source('h_mdt.R')\n",
    "\n",
    "library(xtable)\n",
    "library(ggplot2)\n",
    "theme_set(theme_bw())\n",
    "library(ggpubr)\n",
    "library(plyr)"
   ]
  },
  {
   "cell_type": "code",
   "execution_count": 14,
   "metadata": {
    "collapsed": true
   },
   "outputs": [],
   "source": [
    "# Self defined functions for generating tables and histogram\n",
    "tableGen <- function (v) {  \n",
    "  sum.table.v <- c(summary(v), sd(v))\n",
    "  sum.table.v <- data.frame(sum.table.v)\n",
    "  rownames(sum.table.v) <- c(\"Min.\",\"1st Qu.\",\"Median\",\"Mean\",\n",
    "                             \"3rd Qu.\",\"Max\",\"Stand. Dev.\")\n",
    "  colnames(sum.table.v) <- \"Value\"\n",
    "  return(sum.table.v)\n",
    "}\n",
    "\n",
    "histplot <- function (df, col=NULL, title='Histogram of Data') {\n",
    "  col <- if (is.null(col))\n",
    "    'Blues'\n",
    "  else col\n",
    "  df.shift <- df\n",
    "  df.shift$Total[df.shift$Total == 100] <- 99\n",
    "  ggplot(df.shift, aes(x=Total)) + \n",
    "    geom_histogram(aes(fill=..count..), bins=22, col=\"black\", closed=\"right\") + \n",
    "    scale_x_continuous(name = \"Total score (0-100)\",\n",
    "                       breaks = seq(0, 100, 20), \n",
    "                       limits = c(-3,105)\n",
    "                       ) + \n",
    "    scale_fill_gradient2(high=brewer.pal(5,col)) + \n",
    "    labs(title=title, subtitle=paste0(\"Total scores frequency: \", nrow(df), \" students\"))\n",
    "}"
   ]
  },
  {
   "cell_type": "code",
   "execution_count": 15,
   "metadata": {
    "scrolled": true
   },
   "outputs": [
    {
     "name": "stdout",
     "output_type": "stream",
     "text": [
      "% latex table generated in R 3.4.3 by xtable 1.8-2 package\n",
      "% Mon Feb 04 17:02:12 2019\n",
      "\\begin{table}[ht]\n",
      "\\centering\n",
      "\\begin{tabular}{clc}\n",
      "  \\hline\n",
      "Label & Item & Type \\\\ \n",
      "  \\hline\n",
      "N1 & Q1 & A \\\\ \n",
      "  N2 & Q3 & B \\\\ \n",
      "  N3 & N3 & A \\\\ \n",
      "  N4 & Q5 & A \\\\ \n",
      "  N5 & Q6 & A \\\\ \n",
      "  N6 & Q7 & B \\\\ \n",
      "  N7 & N7 & B \\\\ \n",
      "  N8 & Q9 & A \\\\ \n",
      "  N9 & Q10 & B \\\\ \n",
      "  N10 & N10 & B \\\\ \n",
      "  N11 & N11 & C \\\\ \n",
      "  N12 & N12 & A \\\\ \n",
      "  N13 & Q13 & A \\\\ \n",
      "  N14 & Q14 & B \\\\ \n",
      "  N15 & Q15 & A \\\\ \n",
      "  N16 & Q16 & A \\\\ \n",
      "  N17 & Q17 & A \\\\ \n",
      "  N18 & Q18 & A \\\\ \n",
      "  N19 & Q19 & B \\\\ \n",
      "  N20 & Q20 & B \\\\ \n",
      "   \\hline\n",
      "\\end{tabular}\n",
      "\\end{table}\n"
     ]
    }
   ],
   "source": [
    "## ----- Section 1.1 -----\n",
    "df <- data.frame(Label = paste0('N',1:20), group_17)\n",
    "# LaTeX: tab:EDA_groups\n",
    "print(xtable(df, align=c('l','c','l','c')), include.rownames = F)"
   ]
  },
  {
   "cell_type": "code",
   "execution_count": 16,
   "metadata": {},
   "outputs": [
    {
     "data": {
      "text/html": [
       "<table>\n",
       "<thead><tr><th></th><th scope=col>Value</th></tr></thead>\n",
       "<tbody>\n",
       "\t<tr><th scope=row>Min.</th><td>  0.00000</td></tr>\n",
       "\t<tr><th scope=row>1st Qu.</th><td> 57.75000</td></tr>\n",
       "\t<tr><th scope=row>Median</th><td> 72.88000</td></tr>\n",
       "\t<tr><th scope=row>Mean</th><td> 69.21834</td></tr>\n",
       "\t<tr><th scope=row>3rd Qu.</th><td> 84.50000</td></tr>\n",
       "\t<tr><th scope=row>Max</th><td>100.00000</td></tr>\n",
       "\t<tr><th scope=row>Stand. Dev.</th><td> 20.42062</td></tr>\n",
       "</tbody>\n",
       "</table>\n"
      ],
      "text/latex": [
       "\\begin{tabular}{r|l}\n",
       "  & Value\\\\\n",
       "\\hline\n",
       "\tMin. &   0.00000\\\\\n",
       "\t1st Qu. &  57.75000\\\\\n",
       "\tMedian &  72.88000\\\\\n",
       "\tMean &  69.21834\\\\\n",
       "\t3rd Qu. &  84.50000\\\\\n",
       "\tMax & 100.00000\\\\\n",
       "\tStand. Dev. &  20.42062\\\\\n",
       "\\end{tabular}\n"
      ],
      "text/markdown": [
       "\n",
       "| <!--/--> | Value | \n",
       "|---|---|---|---|---|---|---|\n",
       "| Min. |   0.00000 | \n",
       "| 1st Qu. |  57.75000 | \n",
       "| Median |  72.88000 | \n",
       "| Mean |  69.21834 | \n",
       "| 3rd Qu. |  84.50000 | \n",
       "| Max | 100.00000 | \n",
       "| Stand. Dev. |  20.42062 | \n",
       "\n",
       "\n"
      ],
      "text/plain": [
       "            Value    \n",
       "Min.          0.00000\n",
       "1st Qu.      57.75000\n",
       "Median       72.88000\n",
       "Mean         69.21834\n",
       "3rd Qu.      84.50000\n",
       "Max         100.00000\n",
       "Stand. Dev.  20.42062"
      ]
     },
     "metadata": {},
     "output_type": "display_data"
    },
    {
     "data": {
      "text/html": [
       "<table>\n",
       "<thead><tr><th></th><th scope=col>Value</th></tr></thead>\n",
       "<tbody>\n",
       "\t<tr><th scope=row>Min.</th><td>  0.00000</td></tr>\n",
       "\t<tr><th scope=row>1st Qu.</th><td> 59.00000</td></tr>\n",
       "\t<tr><th scope=row>Median</th><td> 73.44000</td></tr>\n",
       "\t<tr><th scope=row>Mean</th><td> 69.71133</td></tr>\n",
       "\t<tr><th scope=row>3rd Qu.</th><td> 84.50000</td></tr>\n",
       "\t<tr><th scope=row>Max</th><td>100.00000</td></tr>\n",
       "\t<tr><th scope=row>Stand. Dev.</th><td> 19.80904</td></tr>\n",
       "</tbody>\n",
       "</table>\n"
      ],
      "text/latex": [
       "\\begin{tabular}{r|l}\n",
       "  & Value\\\\\n",
       "\\hline\n",
       "\tMin. &   0.00000\\\\\n",
       "\t1st Qu. &  59.00000\\\\\n",
       "\tMedian &  73.44000\\\\\n",
       "\tMean &  69.71133\\\\\n",
       "\t3rd Qu. &  84.50000\\\\\n",
       "\tMax & 100.00000\\\\\n",
       "\tStand. Dev. &  19.80904\\\\\n",
       "\\end{tabular}\n"
      ],
      "text/markdown": [
       "\n",
       "| <!--/--> | Value | \n",
       "|---|---|---|---|---|---|---|\n",
       "| Min. |   0.00000 | \n",
       "| 1st Qu. |  59.00000 | \n",
       "| Median |  73.44000 | \n",
       "| Mean |  69.71133 | \n",
       "| 3rd Qu. |  84.50000 | \n",
       "| Max | 100.00000 | \n",
       "| Stand. Dev. |  19.80904 | \n",
       "\n",
       "\n"
      ],
      "text/plain": [
       "            Value    \n",
       "Min.          0.00000\n",
       "1st Qu.      59.00000\n",
       "Median       73.44000\n",
       "Mean         69.71133\n",
       "3rd Qu.      84.50000\n",
       "Max         100.00000\n",
       "Stand. Dev.  19.80904"
      ]
     },
     "metadata": {},
     "output_type": "display_data"
    }
   ],
   "source": [
    "tableGen(mdt17$Total)\n",
    "tableGen(mdt18$Total)"
   ]
  },
  {
   "cell_type": "code",
   "execution_count": 17,
   "metadata": {},
   "outputs": [
    {
     "name": "stdout",
     "output_type": "stream",
     "text": [
      "% latex table generated in R 3.4.3 by xtable 1.8-2 package\n",
      "% Mon Feb 04 17:02:22 2019\n",
      "\\begin{table}[ht]\n",
      "\\centering\n",
      "\\begin{tabular}{rr}\n",
      "  \\hline\n",
      " & Value \\\\ \n",
      "  \\hline\n",
      "Min. & 0.00 \\\\ \n",
      "  1st Qu. & 57.75 \\\\ \n",
      "  Median & 72.88 \\\\ \n",
      "  Mean & 69.22 \\\\ \n",
      "  3rd Qu. & 84.50 \\\\ \n",
      "  Max & 100.00 \\\\ \n",
      "  Stand. Dev. & 20.42 \\\\ \n",
      "   \\hline\n",
      "\\end{tabular}\n",
      "\\end{table}\n"
     ]
    }
   ],
   "source": [
    "## ----- Section 1.2.1 -----\n",
    "# LaTeX: tab:EDA_dsc_17\n",
    "print(xtable(tableGen(mdt17$Total), digits=c(0,2)))"
   ]
  },
  {
   "cell_type": "code",
   "execution_count": 18,
   "metadata": {
    "scrolled": false
   },
   "outputs": [
    {
     "name": "stderr",
     "output_type": "stream",
     "text": [
      "Warning message:\n",
      "\"Removed 1 rows containing missing values (geom_bar).\""
     ]
    },
    {
     "data": {},
     "metadata": {},
     "output_type": "display_data"
    },
    {
     "name": "stderr",
     "output_type": "stream",
     "text": [
      "Warning message:\n",
      "\"Removed 1 rows containing missing values (geom_bar).\""
     ]
    },
    {
     "data": {},
     "metadata": {},
     "output_type": "display_data"
    },
    {
     "data": {
      "image/png": "[encoded data removed]",
      "text/plain": [
       "plot without title"
      ]
     },
     "metadata": {},
     "output_type": "display_data"
    },
    {
     "data": {
      "image/png": "[encoded data removed]",
      "text/plain": [
       "plot without title"
      ]
     },
     "metadata": {},
     "output_type": "display_data"
    }
   ],
   "source": [
    "# pdf(\"../fig/EDA_hist_17.pdf\", width=7, height=4)\n",
    "histplot(mdt17fac, title='Raw Data')\n",
    "histplot(mdt18fac, title='Raw Data')\n",
    "# dev.off()"
   ]
  },
  {
   "cell_type": "code",
   "execution_count": 7,
   "metadata": {},
   "outputs": [
    {
     "name": "stdout",
     "output_type": "stream",
     "text": [
      "% latex table generated in R 3.4.3 by xtable 1.8-2 package\n",
      "% Fri Sep 21 12:39:52 2018\n",
      "\\begin{table}[ht]\n",
      "\\centering\n",
      "\\begin{tabular}{ccccccccccc}\n",
      "  \\hline\n",
      " & Q1 & Q3 & N3 & Q5 & Q6 & Q7 & N7 & Q9 & Q10 & N10 \\\\ \n",
      "  \\hline\n",
      "1 & 4.44 & 3.60 & 4.06 & 3.94 & 1.74 & 3.79 & 1.89 & 4.22 & 3.64 & 2.01 \\\\ \n",
      "   \\hline\n",
      "\\end{tabular}\n",
      "\\end{table}\n",
      "% latex table generated in R 3.4.3 by xtable 1.8-2 package\n",
      "% Fri Sep 21 12:39:52 2018\n",
      "\\begin{table}[ht]\n",
      "\\centering\n",
      "\\begin{tabular}{ccccccccccc}\n",
      "  \\hline\n",
      " & N11 & N12 & Q13 & Q14 & Q15 & Q16 & Q17 & Q18 & Q19 & Q20 \\\\ \n",
      "  \\hline\n",
      "1 & 3.75 & 4.16 & 3.71 & 2.84 & 3.53 & 4.44 & 4.65 & 3.72 & 2.88 & 2.21 \\\\ \n",
      "   \\hline\n",
      "\\end{tabular}\n",
      "\\end{table}\n"
     ]
    }
   ],
   "source": [
    "## ----- Section 1.2.2 -----\n",
    "# LaTeX: tab:EDA_difficulty\n",
    "print(xtable(t(colMeans(mdt17[1:10])), align=rep('c',11)))\n",
    "print(xtable(t(colMeans(mdt17[11:20])), align=rep('c',11)))"
   ]
  },
  {
   "cell_type": "code",
   "execution_count": 8,
   "metadata": {},
   "outputs": [
    {
     "name": "stdout",
     "output_type": "stream",
     "text": [
      "% latex table generated in R 3.4.3 by xtable 1.8-2 package\n",
      "% Fri Sep 21 12:39:52 2018\n",
      "\\begin{table}[ht]\n",
      "\\centering\n",
      "\\begin{tabular}{rr}\n",
      "  \\hline\n",
      " & No. \\\\ \n",
      "  \\hline\n",
      "1 & 926 \\\\ \n",
      "  2 & 917 \\\\ \n",
      "  3 &  42 \\\\ \n",
      "  4 &  33 \\\\ \n",
      "  5 & 884 \\\\ \n",
      "   \\hline\n",
      "\\end{tabular}\n",
      "\\end{table}\n"
     ]
    }
   ],
   "source": [
    "# LaTeX: tab:EDA_count_clean_legacy\n",
    "print(xtable(data.frame(No.=c(nrow(mdt17fac), \n",
    "                              nrow(mdt17fac_nodup), \n",
    "                              nrow(mdt17fac)-nrow(mdt17_clean_legacy), \n",
    "                              nrow(mdt17_rm_legacy), \n",
    "                              nrow(mdt17_clean_legacy)))))"
   ]
  },
  {
   "cell_type": "code",
   "execution_count": 19,
   "metadata": {},
   "outputs": [
    {
     "name": "stderr",
     "output_type": "stream",
     "text": [
      "Warning message:\n",
      "\"Removed 1 rows containing missing values (geom_bar).\""
     ]
    },
    {
     "data": {},
     "metadata": {},
     "output_type": "display_data"
    },
    {
     "name": "stderr",
     "output_type": "stream",
     "text": [
      "Warning message:\n",
      "\"Removed 1 rows containing missing values (geom_bar).\""
     ]
    },
    {
     "data": {},
     "metadata": {},
     "output_type": "display_data"
    },
    {
     "data": {
      "image/png": "[encoded data removed]",
      "text/plain": [
       "plot without title"
      ]
     },
     "metadata": {},
     "output_type": "display_data"
    },
    {
     "data": {
      "image/png": "[encoded data removed]",
      "text/plain": [
       "plot without title"
      ]
     },
     "metadata": {},
     "output_type": "display_data"
    }
   ],
   "source": [
    "# pdf(\"../fig/EDA_hist_17clean_legacy.pdf\", width=7, height=4)\n",
    "histplot(mdt17_clean_legacy, 'Oranges', title='Data after Cleaning (Legacy)')\n",
    "histplot(mdt18_clean_legacy, 'Oranges', title='Data after Cleaning (Legacy)')\n",
    "# dev.off()"
   ]
  },
  {
   "cell_type": "code",
   "execution_count": 9,
   "metadata": {},
   "outputs": [
    {
     "name": "stdout",
     "output_type": "stream",
     "text": [
      "% latex table generated in R 3.4.3 by xtable 1.8-2 package\n",
      "% Fri Sep 21 12:39:52 2018\n",
      "\\begin{table}[ht]\n",
      "\\centering\n",
      "\\begin{tabular}{rr}\n",
      "  \\hline\n",
      " & Value \\\\ \n",
      "  \\hline\n",
      "Min. & 12.50 \\\\ \n",
      "  1st Qu. & 60.00 \\\\ \n",
      "  Median & 73.94 \\\\ \n",
      "  Mean & 71.32 \\\\ \n",
      "  3rd Qu. & 85.00 \\\\ \n",
      "  Max & 100.00 \\\\ \n",
      "  Stand. Dev. & 17.53 \\\\ \n",
      "   \\hline\n",
      "\\end{tabular}\n",
      "\\end{table}\n"
     ]
    }
   ],
   "source": [
    "# LaTeX: tab:EDA_dsc_17clean_legacy\n",
    "print(xtable(tableGen(mdt17_clean_legacy$Total), digits=c(0,2)))"
   ]
  },
  {
   "cell_type": "code",
   "execution_count": 20,
   "metadata": {},
   "outputs": [
    {
     "name": "stdout",
     "output_type": "stream",
     "text": [
      "% latex table generated in R 3.4.3 by xtable 1.8-2 package\n",
      "% Mon Feb 04 17:04:32 2019\n",
      "\\begin{table}[ht]\n",
      "\\centering\n",
      "\\begin{tabular}{rcccccccccccc}\n",
      "  \\hline\n",
      "  \\hline\n",
      "Valid.Response & 2 & 4 & 5 & 6 & 7 & 9 & 10 & 11 & 13 & 14 & 15 & 18 \\\\ \n",
      "  Freq & 2 & 4 & 5 & 5 & 2 & 1 & 2 & 3 & 2 & 5 & 1 & 1 \\\\ \n",
      "   \\hline\n",
      "\\end{tabular}\n",
      "\\end{table}\n"
     ]
    },
    {
     "ename": "ERROR",
     "evalue": "Error in `align<-.xtable`(`*tmp*`, value = switch(1 + is.null(align), : \"align\" must have length equal to 15 ( ncol(x) + 1 )\n",
     "output_type": "error",
     "traceback": [
      "Error in `align<-.xtable`(`*tmp*`, value = switch(1 + is.null(align), : \"align\" must have length equal to 15 ( ncol(x) + 1 )\nTraceback:\n",
      "1. print(xtable(t(as.data.frame(table(Valid.Response = rowSums(mdt18fac_nodup[row.names(mdt18_rm_legacy), \n .     ] != \"-\")))), align = c(\"r\", rep(\"c\", 12))), include.colnames = F)",
      "2. xtable(t(as.data.frame(table(Valid.Response = rowSums(mdt18fac_nodup[row.names(mdt18_rm_legacy), \n .     ] != \"-\")))), align = c(\"r\", rep(\"c\", 12)))",
      "3. xtable.matrix(t(as.data.frame(table(Valid.Response = rowSums(mdt18fac_nodup[row.names(mdt18_rm_legacy), \n .     ] != \"-\")))), align = c(\"r\", rep(\"c\", 12)))",
      "4. xtable.data.frame(data.frame(x, check.names = FALSE), caption = caption, \n .     label = label, align = align, digits = digits, display = display, \n .     auto = auto, ...)",
      "5. `align<-`(`*tmp*`, value = switch(1 + is.null(align), align, \n .     c(\"r\", c(\"r\", \"l\")[(characters | factors) + 1])))",
      "6. `align<-.xtable`(`*tmp*`, value = switch(1 + is.null(align), \n .     align, c(\"r\", c(\"r\", \"l\")[(characters | factors) + 1])))",
      "7. stop(paste(\"\\\"align\\\" must have length equal to\", ncol(x) + 1, \n .     \"( ncol(x) + 1 )\"))"
     ]
    }
   ],
   "source": [
    "## ----- Section 1.2.3 -----\n",
    "# LaTeX: tab:EDA_validresp_legacy\n",
    "print(xtable(t(as.data.frame(table(Valid.Response=rowSums(mdt17fac_nodup[row.names(mdt17_rm_legacy),]!='-')))), \n",
    "             align=c('r', rep('c',12))), \n",
    "      include.colnames=F)"
   ]
  },
  {
   "cell_type": "code",
   "execution_count": 21,
   "metadata": {},
   "outputs": [
    {
     "data": {
      "text/html": [
       "<table>\n",
       "<thead><tr><th scope=col>Q1</th><th scope=col>Q3</th><th scope=col>N3</th><th scope=col>Q5</th><th scope=col>Q6</th><th scope=col>Q7</th><th scope=col>N7</th><th scope=col>Q9</th><th scope=col>Q10</th><th scope=col>N10</th><th scope=col>...</th><th scope=col>Q13</th><th scope=col>Q14</th><th scope=col>Q15</th><th scope=col>Q16</th><th scope=col>Q17</th><th scope=col>Q18</th><th scope=col>Q19</th><th scope=col>Q20</th><th scope=col>Total</th><th scope=col>AnonID</th></tr></thead>\n",
       "<tbody>\n",
       "\t<tr><td>-       </td><td>-       </td><td>-       </td><td>-       </td><td>-       </td><td>-       </td><td>-       </td><td>-       </td><td>-       </td><td>-       </td><td>...     </td><td>-       </td><td>-       </td><td>-       </td><td>-       </td><td>-       </td><td>-       </td><td>-       </td><td>-       </td><td> 0.00   </td><td>5d9671ea</td></tr>\n",
       "\t<tr><td>-       </td><td>-       </td><td>-       </td><td>-       </td><td>-       </td><td>-       </td><td>-       </td><td>-       </td><td>-       </td><td>-       </td><td>...     </td><td>-       </td><td>-       </td><td>-       </td><td>-       </td><td>-       </td><td>-       </td><td>-       </td><td>-       </td><td> 0.00   </td><td>86f35c2f</td></tr>\n",
       "\t<tr><td>-       </td><td>0.00    </td><td>-       </td><td>-       </td><td>-       </td><td>-       </td><td>5.00    </td><td>-       </td><td>-       </td><td>-       </td><td>...     </td><td>-       </td><td>-       </td><td>-       </td><td>-       </td><td>-       </td><td>-       </td><td>-       </td><td>-       </td><td> 5.00   </td><td>25c3a4a9</td></tr>\n",
       "\t<tr><td>-       </td><td>0.00    </td><td>-       </td><td>-       </td><td>-       </td><td>-       </td><td>-       </td><td>0.00    </td><td>-       </td><td>-       </td><td>...     </td><td>-       </td><td>-       </td><td>-       </td><td>-       </td><td>-       </td><td>-       </td><td>-       </td><td>-       </td><td> 0.00   </td><td>9a536419</td></tr>\n",
       "\t<tr><td>5.00    </td><td>5.00    </td><td>-       </td><td>-       </td><td>-       </td><td>-       </td><td>-       </td><td>-       </td><td>-       </td><td>-       </td><td>...     </td><td>-       </td><td>-       </td><td>-       </td><td>-       </td><td>-       </td><td>-       </td><td>-       </td><td>-       </td><td>10.00   </td><td>dd8defb6</td></tr>\n",
       "\t<tr><td>5.00    </td><td>0.00    </td><td>-       </td><td>-       </td><td>-       </td><td>-       </td><td>-       </td><td>-       </td><td>-       </td><td>-       </td><td>...     </td><td>-       </td><td>-       </td><td>-       </td><td>-       </td><td>-       </td><td>-       </td><td>-       </td><td>-       </td><td> 5.00   </td><td>fe4057d5</td></tr>\n",
       "\t<tr><td>0.00    </td><td>0.00    </td><td>2.50    </td><td>-       </td><td>-       </td><td>-       </td><td>-       </td><td>-       </td><td>-       </td><td>-       </td><td>...     </td><td>-       </td><td>-       </td><td>-       </td><td>-       </td><td>-       </td><td>-       </td><td>-       </td><td>-       </td><td> 2.50   </td><td>11f6720d</td></tr>\n",
       "\t<tr><td>5.00    </td><td>0.00    </td><td>1.25    </td><td>-       </td><td>-       </td><td>-       </td><td>-       </td><td>-       </td><td>-       </td><td>-       </td><td>...     </td><td>-       </td><td>-       </td><td>-       </td><td>-       </td><td>-       </td><td>-       </td><td>-       </td><td>-       </td><td> 6.25   </td><td>19b9f7f6</td></tr>\n",
       "\t<tr><td>5.00    </td><td>5.00    </td><td>3.75    </td><td>-       </td><td>-       </td><td>-       </td><td>-       </td><td>-       </td><td>-       </td><td>-       </td><td>...     </td><td>-       </td><td>-       </td><td>-       </td><td>-       </td><td>-       </td><td>-       </td><td>-       </td><td>-       </td><td>13.75   </td><td>64826c73</td></tr>\n",
       "\t<tr><td>5.00    </td><td>0.00    </td><td>1.25    </td><td>-       </td><td>-       </td><td>-       </td><td>-       </td><td>-       </td><td>-       </td><td>-       </td><td>...     </td><td>-       </td><td>-       </td><td>-       </td><td>-       </td><td>-       </td><td>-       </td><td>-       </td><td>-       </td><td> 6.25   </td><td>8e7cab64</td></tr>\n",
       "\t<tr><td>2.50    </td><td>5.00    </td><td>-       </td><td>-       </td><td>-       </td><td>-       </td><td>-       </td><td>-       </td><td>-       </td><td>-       </td><td>...     </td><td>-       </td><td>-       </td><td>-       </td><td>5.00    </td><td>-       </td><td>-       </td><td>-       </td><td>-       </td><td>12.50   </td><td>d7cad492</td></tr>\n",
       "\t<tr><td>5.00    </td><td>5.00    </td><td>5.00    </td><td>5.00    </td><td>-       </td><td>-       </td><td>-       </td><td>-       </td><td>-       </td><td>-       </td><td>...     </td><td>-       </td><td>-       </td><td>-       </td><td>-       </td><td>-       </td><td>-       </td><td>-       </td><td>-       </td><td>20.00   </td><td>5256ce3c</td></tr>\n",
       "\t<tr><td>5.00    </td><td>5.00    </td><td>5.00    </td><td>5.00    </td><td>-       </td><td>-       </td><td>-       </td><td>-       </td><td>-       </td><td>-       </td><td>...     </td><td>-       </td><td>-       </td><td>-       </td><td>-       </td><td>-       </td><td>-       </td><td>-       </td><td>-       </td><td>20.00   </td><td>592140a5</td></tr>\n",
       "\t<tr><td>5.00    </td><td>0.00    </td><td>0.00    </td><td>0.00    </td><td>-       </td><td>-       </td><td>-       </td><td>-       </td><td>-       </td><td>-       </td><td>...     </td><td>-       </td><td>-       </td><td>-       </td><td>-       </td><td>-       </td><td>-       </td><td>-       </td><td>-       </td><td> 5.00   </td><td>81ea16f5</td></tr>\n",
       "\t<tr><td>5.00    </td><td>-       </td><td>1.25    </td><td>5.00    </td><td>2.00    </td><td>-       </td><td>-       </td><td>-       </td><td>-       </td><td>-       </td><td>...     </td><td>-       </td><td>-       </td><td>-       </td><td>-       </td><td>-       </td><td>-       </td><td>-       </td><td>-       </td><td>13.25   </td><td>972fe4b9</td></tr>\n",
       "\t<tr><td>0.00    </td><td>0.00    </td><td>1.25    </td><td>-       </td><td>0.00    </td><td>-       </td><td>-       </td><td>-       </td><td>-       </td><td>-       </td><td>...     </td><td>-       </td><td>-       </td><td>-       </td><td>-       </td><td>-       </td><td>-       </td><td>-       </td><td>-       </td><td> 1.25   </td><td>d2a9659d</td></tr>\n",
       "\t<tr><td>2.50    </td><td>0.00    </td><td>1.25    </td><td>-       </td><td>-       </td><td>5.00    </td><td>-       </td><td>-       </td><td>-       </td><td>-       </td><td>...     </td><td>-       </td><td>-       </td><td>-       </td><td>-       </td><td>-       </td><td>-       </td><td>-       </td><td>-       </td><td> 8.75   </td><td>86509c8a</td></tr>\n",
       "\t<tr><td>2.50    </td><td>-       </td><td>-       </td><td>-       </td><td>-       </td><td>5.00    </td><td>0.00    </td><td>-       </td><td>-       </td><td>-       </td><td>...     </td><td>-       </td><td>-       </td><td>-       </td><td>-       </td><td>0.00    </td><td>-       </td><td>-       </td><td>0.00    </td><td> 7.50   </td><td>a8e81e4b</td></tr>\n",
       "\t<tr><td>5.00    </td><td>5.00    </td><td>5.00    </td><td>5.00    </td><td>5.00    </td><td>5.00    </td><td>0.00    </td><td>-       </td><td>-       </td><td>-       </td><td>...     </td><td>-       </td><td>-       </td><td>-       </td><td>-       </td><td>-       </td><td>-       </td><td>-       </td><td>-       </td><td>30.00   </td><td>3af48cdc</td></tr>\n",
       "\t<tr><td>5.00    </td><td>0.00    </td><td>5.00    </td><td>5.00    </td><td>-       </td><td>0.00    </td><td>0.00    </td><td>0.00    </td><td>5.00    </td><td>-       </td><td>...     </td><td>-       </td><td>-       </td><td>-       </td><td>-       </td><td>-       </td><td>-       </td><td>-       </td><td>-       </td><td>20.00   </td><td>1b121cc </td></tr>\n",
       "\t<tr><td>5.00    </td><td>-       </td><td>5.00    </td><td>-       </td><td>-       </td><td>-       </td><td>-       </td><td>-       </td><td>-       </td><td>-       </td><td>...     </td><td>2.00    </td><td>0.00    </td><td>5.00    </td><td>-       </td><td>-       </td><td>0.00    </td><td>0.00    </td><td>-       </td><td>22.00   </td><td>1e948aad</td></tr>\n",
       "\t<tr><td>5.00    </td><td>5.00    </td><td>1.25    </td><td>0.00    </td><td>2.00    </td><td>-       </td><td>-       </td><td>-       </td><td>-       </td><td>1.25    </td><td>...     </td><td>-       </td><td>-       </td><td>2.50    </td><td>0.00    </td><td>5.00    </td><td>-       </td><td>-       </td><td>-       </td><td>22.00   </td><td>5951f677</td></tr>\n",
       "\t<tr><td>0.00    </td><td>0.00    </td><td>3.75    </td><td>-       </td><td>-       </td><td>-       </td><td>-       </td><td>0.00    </td><td>0.00    </td><td>-       </td><td>...     </td><td>2.00    </td><td>2.00    </td><td>-       </td><td>-       </td><td>0.00    </td><td>-       </td><td>-       </td><td>-       </td><td>12.75   </td><td>70a19518</td></tr>\n",
       "\t<tr><td>5.00    </td><td>5.00    </td><td>2.50    </td><td>5.00    </td><td>0.00    </td><td>-       </td><td>-       </td><td>5.00    </td><td>-       </td><td>-       </td><td>...     </td><td>0.00    </td><td>0.00    </td><td>-       </td><td>-       </td><td>-       </td><td>0.00    </td><td>-       </td><td>-       </td><td>22.50   </td><td>d1ad0952</td></tr>\n",
       "\t<tr><td>-       </td><td>-       </td><td>1.25    </td><td>5.00    </td><td>2.00    </td><td>-       </td><td>-       </td><td>5.00    </td><td>0.00    </td><td>1.25    </td><td>...     </td><td>-       </td><td>-       </td><td>2.50    </td><td>-       </td><td>5.00    </td><td>0.00    </td><td>-       </td><td>0.00    </td><td>22.00   </td><td>50bf1ff5</td></tr>\n",
       "\t<tr><td>2.50    </td><td>5.00    </td><td>-       </td><td>-       </td><td>-       </td><td>-       </td><td>-       </td><td>0.00    </td><td>5.00    </td><td>1.25    </td><td>...     </td><td>-       </td><td>0.00    </td><td>5.00    </td><td>0.00    </td><td>0.00    </td><td>0.00    </td><td>-       </td><td>-       </td><td>23.75   </td><td>b5340aea</td></tr>\n",
       "\t<tr><td>5.00    </td><td>0.00    </td><td>0.00    </td><td>0.00    </td><td>-       </td><td>0.00    </td><td>0.00    </td><td>0.00    </td><td>-       </td><td>-       </td><td>...     </td><td>-       </td><td>-       </td><td>-       </td><td>0.00    </td><td>0.00    </td><td>0.00    </td><td>-       </td><td>0.00    </td><td> 5.00   </td><td>578e2474</td></tr>\n",
       "\t<tr><td>5.00    </td><td>0.00    </td><td>1.25    </td><td>-       </td><td>-       </td><td>-       </td><td>0.00    </td><td>0.00    </td><td>2.50    </td><td>-       </td><td>...     </td><td>-       </td><td>-       </td><td>2.50    </td><td>0.00    </td><td>5.00    </td><td>0.00    </td><td>-       </td><td>0.00    </td><td>16.25   </td><td>71ece9d1</td></tr>\n",
       "\t<tr><td>5.00    </td><td>0.00    </td><td>2.50    </td><td>-       </td><td>-       </td><td>-       </td><td>0.00    </td><td>0.00    </td><td>0.00    </td><td>0.00    </td><td>...     </td><td>5.00    </td><td>0.00    </td><td>-       </td><td>0.00    </td><td>-       </td><td>0.00    </td><td>-       </td><td>-       </td><td>13.50   </td><td>a89a154d</td></tr>\n",
       "\t<tr><td>2.50    </td><td>5.00    </td><td>2.50    </td><td>0.00    </td><td>-       </td><td>-       </td><td>5.00    </td><td>5.00    </td><td>0.00    </td><td>-       </td><td>...     </td><td>-       </td><td>-       </td><td>0.00    </td><td>0.00    </td><td>0.00    </td><td>0.00    </td><td>-       </td><td>-       </td><td>20.00   </td><td>af8a2bf6</td></tr>\n",
       "\t<tr><td>5.00    </td><td>0.00    </td><td>2.50    </td><td>0.00    </td><td>-       </td><td>-       </td><td>5.00    </td><td>5.00    </td><td>5.00    </td><td>-       </td><td>...     </td><td>0.00    </td><td>-       </td><td>-       </td><td>0.00    </td><td>0.00    </td><td>-       </td><td>-       </td><td>-       </td><td>24.50   </td><td>bb3a4383</td></tr>\n",
       "\t<tr><td>0.00    </td><td>0.00    </td><td>-       </td><td>0.00    </td><td>-       </td><td>2.50    </td><td>0.00    </td><td>-       </td><td>2.50    </td><td>1.25    </td><td>...     </td><td>0.00    </td><td>-       </td><td>-       </td><td>5.00    </td><td>0.00    </td><td>0.00    </td><td>0.00    </td><td>0.00    </td><td>11.25   </td><td>f69806fb</td></tr>\n",
       "\t<tr><td>5.00    </td><td>0.00    </td><td>2.50    </td><td>5.00    </td><td>-       </td><td>5.00    </td><td>0.00    </td><td>0.00    </td><td>2.50    </td><td>0.00    </td><td>...     </td><td>-       </td><td>-       </td><td>-       </td><td>0.00    </td><td>0.00    </td><td>0.00    </td><td>0.00    </td><td>0.00    </td><td>25.00   </td><td>db441586</td></tr>\n",
       "</tbody>\n",
       "</table>\n"
      ],
      "text/latex": [
       "\\begin{tabular}{r|llllllllllllllllllllll}\n",
       " Q1 & Q3 & N3 & Q5 & Q6 & Q7 & N7 & Q9 & Q10 & N10 & ... & Q13 & Q14 & Q15 & Q16 & Q17 & Q18 & Q19 & Q20 & Total & AnonID\\\\\n",
       "\\hline\n",
       "\t -        & -        & -        & -        & -        & -        & -        & -        & -        & -        & ...      & -        & -        & -        & -        & -        & -        & -        & -        &  0.00    & 5d9671ea\\\\\n",
       "\t -        & -        & -        & -        & -        & -        & -        & -        & -        & -        & ...      & -        & -        & -        & -        & -        & -        & -        & -        &  0.00    & 86f35c2f\\\\\n",
       "\t -        & 0.00     & -        & -        & -        & -        & 5.00     & -        & -        & -        & ...      & -        & -        & -        & -        & -        & -        & -        & -        &  5.00    & 25c3a4a9\\\\\n",
       "\t -        & 0.00     & -        & -        & -        & -        & -        & 0.00     & -        & -        & ...      & -        & -        & -        & -        & -        & -        & -        & -        &  0.00    & 9a536419\\\\\n",
       "\t 5.00     & 5.00     & -        & -        & -        & -        & -        & -        & -        & -        & ...      & -        & -        & -        & -        & -        & -        & -        & -        & 10.00    & dd8defb6\\\\\n",
       "\t 5.00     & 0.00     & -        & -        & -        & -        & -        & -        & -        & -        & ...      & -        & -        & -        & -        & -        & -        & -        & -        &  5.00    & fe4057d5\\\\\n",
       "\t 0.00     & 0.00     & 2.50     & -        & -        & -        & -        & -        & -        & -        & ...      & -        & -        & -        & -        & -        & -        & -        & -        &  2.50    & 11f6720d\\\\\n",
       "\t 5.00     & 0.00     & 1.25     & -        & -        & -        & -        & -        & -        & -        & ...      & -        & -        & -        & -        & -        & -        & -        & -        &  6.25    & 19b9f7f6\\\\\n",
       "\t 5.00     & 5.00     & 3.75     & -        & -        & -        & -        & -        & -        & -        & ...      & -        & -        & -        & -        & -        & -        & -        & -        & 13.75    & 64826c73\\\\\n",
       "\t 5.00     & 0.00     & 1.25     & -        & -        & -        & -        & -        & -        & -        & ...      & -        & -        & -        & -        & -        & -        & -        & -        &  6.25    & 8e7cab64\\\\\n",
       "\t 2.50     & 5.00     & -        & -        & -        & -        & -        & -        & -        & -        & ...      & -        & -        & -        & 5.00     & -        & -        & -        & -        & 12.50    & d7cad492\\\\\n",
       "\t 5.00     & 5.00     & 5.00     & 5.00     & -        & -        & -        & -        & -        & -        & ...      & -        & -        & -        & -        & -        & -        & -        & -        & 20.00    & 5256ce3c\\\\\n",
       "\t 5.00     & 5.00     & 5.00     & 5.00     & -        & -        & -        & -        & -        & -        & ...      & -        & -        & -        & -        & -        & -        & -        & -        & 20.00    & 592140a5\\\\\n",
       "\t 5.00     & 0.00     & 0.00     & 0.00     & -        & -        & -        & -        & -        & -        & ...      & -        & -        & -        & -        & -        & -        & -        & -        &  5.00    & 81ea16f5\\\\\n",
       "\t 5.00     & -        & 1.25     & 5.00     & 2.00     & -        & -        & -        & -        & -        & ...      & -        & -        & -        & -        & -        & -        & -        & -        & 13.25    & 972fe4b9\\\\\n",
       "\t 0.00     & 0.00     & 1.25     & -        & 0.00     & -        & -        & -        & -        & -        & ...      & -        & -        & -        & -        & -        & -        & -        & -        &  1.25    & d2a9659d\\\\\n",
       "\t 2.50     & 0.00     & 1.25     & -        & -        & 5.00     & -        & -        & -        & -        & ...      & -        & -        & -        & -        & -        & -        & -        & -        &  8.75    & 86509c8a\\\\\n",
       "\t 2.50     & -        & -        & -        & -        & 5.00     & 0.00     & -        & -        & -        & ...      & -        & -        & -        & -        & 0.00     & -        & -        & 0.00     &  7.50    & a8e81e4b\\\\\n",
       "\t 5.00     & 5.00     & 5.00     & 5.00     & 5.00     & 5.00     & 0.00     & -        & -        & -        & ...      & -        & -        & -        & -        & -        & -        & -        & -        & 30.00    & 3af48cdc\\\\\n",
       "\t 5.00     & 0.00     & 5.00     & 5.00     & -        & 0.00     & 0.00     & 0.00     & 5.00     & -        & ...      & -        & -        & -        & -        & -        & -        & -        & -        & 20.00    & 1b121cc \\\\\n",
       "\t 5.00     & -        & 5.00     & -        & -        & -        & -        & -        & -        & -        & ...      & 2.00     & 0.00     & 5.00     & -        & -        & 0.00     & 0.00     & -        & 22.00    & 1e948aad\\\\\n",
       "\t 5.00     & 5.00     & 1.25     & 0.00     & 2.00     & -        & -        & -        & -        & 1.25     & ...      & -        & -        & 2.50     & 0.00     & 5.00     & -        & -        & -        & 22.00    & 5951f677\\\\\n",
       "\t 0.00     & 0.00     & 3.75     & -        & -        & -        & -        & 0.00     & 0.00     & -        & ...      & 2.00     & 2.00     & -        & -        & 0.00     & -        & -        & -        & 12.75    & 70a19518\\\\\n",
       "\t 5.00     & 5.00     & 2.50     & 5.00     & 0.00     & -        & -        & 5.00     & -        & -        & ...      & 0.00     & 0.00     & -        & -        & -        & 0.00     & -        & -        & 22.50    & d1ad0952\\\\\n",
       "\t -        & -        & 1.25     & 5.00     & 2.00     & -        & -        & 5.00     & 0.00     & 1.25     & ...      & -        & -        & 2.50     & -        & 5.00     & 0.00     & -        & 0.00     & 22.00    & 50bf1ff5\\\\\n",
       "\t 2.50     & 5.00     & -        & -        & -        & -        & -        & 0.00     & 5.00     & 1.25     & ...      & -        & 0.00     & 5.00     & 0.00     & 0.00     & 0.00     & -        & -        & 23.75    & b5340aea\\\\\n",
       "\t 5.00     & 0.00     & 0.00     & 0.00     & -        & 0.00     & 0.00     & 0.00     & -        & -        & ...      & -        & -        & -        & 0.00     & 0.00     & 0.00     & -        & 0.00     &  5.00    & 578e2474\\\\\n",
       "\t 5.00     & 0.00     & 1.25     & -        & -        & -        & 0.00     & 0.00     & 2.50     & -        & ...      & -        & -        & 2.50     & 0.00     & 5.00     & 0.00     & -        & 0.00     & 16.25    & 71ece9d1\\\\\n",
       "\t 5.00     & 0.00     & 2.50     & -        & -        & -        & 0.00     & 0.00     & 0.00     & 0.00     & ...      & 5.00     & 0.00     & -        & 0.00     & -        & 0.00     & -        & -        & 13.50    & a89a154d\\\\\n",
       "\t 2.50     & 5.00     & 2.50     & 0.00     & -        & -        & 5.00     & 5.00     & 0.00     & -        & ...      & -        & -        & 0.00     & 0.00     & 0.00     & 0.00     & -        & -        & 20.00    & af8a2bf6\\\\\n",
       "\t 5.00     & 0.00     & 2.50     & 0.00     & -        & -        & 5.00     & 5.00     & 5.00     & -        & ...      & 0.00     & -        & -        & 0.00     & 0.00     & -        & -        & -        & 24.50    & bb3a4383\\\\\n",
       "\t 0.00     & 0.00     & -        & 0.00     & -        & 2.50     & 0.00     & -        & 2.50     & 1.25     & ...      & 0.00     & -        & -        & 5.00     & 0.00     & 0.00     & 0.00     & 0.00     & 11.25    & f69806fb\\\\\n",
       "\t 5.00     & 0.00     & 2.50     & 5.00     & -        & 5.00     & 0.00     & 0.00     & 2.50     & 0.00     & ...      & -        & -        & -        & 0.00     & 0.00     & 0.00     & 0.00     & 0.00     & 25.00    & db441586\\\\\n",
       "\\end{tabular}\n"
      ],
      "text/markdown": [
       "\n",
       "Q1 | Q3 | N3 | Q5 | Q6 | Q7 | N7 | Q9 | Q10 | N10 | ... | Q13 | Q14 | Q15 | Q16 | Q17 | Q18 | Q19 | Q20 | Total | AnonID | \n",
       "|---|---|---|---|---|---|---|---|---|---|---|---|---|---|---|---|---|---|---|---|---|---|---|---|---|---|---|---|---|---|---|---|---|\n",
       "| -        | -        | -        | -        | -        | -        | -        | -        | -        | -        | ...      | -        | -        | -        | -        | -        | -        | -        | -        |  0.00    | 5d9671ea | \n",
       "| -        | -        | -        | -        | -        | -        | -        | -        | -        | -        | ...      | -        | -        | -        | -        | -        | -        | -        | -        |  0.00    | 86f35c2f | \n",
       "| -        | 0.00     | -        | -        | -        | -        | 5.00     | -        | -        | -        | ...      | -        | -        | -        | -        | -        | -        | -        | -        |  5.00    | 25c3a4a9 | \n",
       "| -        | 0.00     | -        | -        | -        | -        | -        | 0.00     | -        | -        | ...      | -        | -        | -        | -        | -        | -        | -        | -        |  0.00    | 9a536419 | \n",
       "| 5.00     | 5.00     | -        | -        | -        | -        | -        | -        | -        | -        | ...      | -        | -        | -        | -        | -        | -        | -        | -        | 10.00    | dd8defb6 | \n",
       "| 5.00     | 0.00     | -        | -        | -        | -        | -        | -        | -        | -        | ...      | -        | -        | -        | -        | -        | -        | -        | -        |  5.00    | fe4057d5 | \n",
       "| 0.00     | 0.00     | 2.50     | -        | -        | -        | -        | -        | -        | -        | ...      | -        | -        | -        | -        | -        | -        | -        | -        |  2.50    | 11f6720d | \n",
       "| 5.00     | 0.00     | 1.25     | -        | -        | -        | -        | -        | -        | -        | ...      | -        | -        | -        | -        | -        | -        | -        | -        |  6.25    | 19b9f7f6 | \n",
       "| 5.00     | 5.00     | 3.75     | -        | -        | -        | -        | -        | -        | -        | ...      | -        | -        | -        | -        | -        | -        | -        | -        | 13.75    | 64826c73 | \n",
       "| 5.00     | 0.00     | 1.25     | -        | -        | -        | -        | -        | -        | -        | ...      | -        | -        | -        | -        | -        | -        | -        | -        |  6.25    | 8e7cab64 | \n",
       "| 2.50     | 5.00     | -        | -        | -        | -        | -        | -        | -        | -        | ...      | -        | -        | -        | 5.00     | -        | -        | -        | -        | 12.50    | d7cad492 | \n",
       "| 5.00     | 5.00     | 5.00     | 5.00     | -        | -        | -        | -        | -        | -        | ...      | -        | -        | -        | -        | -        | -        | -        | -        | 20.00    | 5256ce3c | \n",
       "| 5.00     | 5.00     | 5.00     | 5.00     | -        | -        | -        | -        | -        | -        | ...      | -        | -        | -        | -        | -        | -        | -        | -        | 20.00    | 592140a5 | \n",
       "| 5.00     | 0.00     | 0.00     | 0.00     | -        | -        | -        | -        | -        | -        | ...      | -        | -        | -        | -        | -        | -        | -        | -        |  5.00    | 81ea16f5 | \n",
       "| 5.00     | -        | 1.25     | 5.00     | 2.00     | -        | -        | -        | -        | -        | ...      | -        | -        | -        | -        | -        | -        | -        | -        | 13.25    | 972fe4b9 | \n",
       "| 0.00     | 0.00     | 1.25     | -        | 0.00     | -        | -        | -        | -        | -        | ...      | -        | -        | -        | -        | -        | -        | -        | -        |  1.25    | d2a9659d | \n",
       "| 2.50     | 0.00     | 1.25     | -        | -        | 5.00     | -        | -        | -        | -        | ...      | -        | -        | -        | -        | -        | -        | -        | -        |  8.75    | 86509c8a | \n",
       "| 2.50     | -        | -        | -        | -        | 5.00     | 0.00     | -        | -        | -        | ...      | -        | -        | -        | -        | 0.00     | -        | -        | 0.00     |  7.50    | a8e81e4b | \n",
       "| 5.00     | 5.00     | 5.00     | 5.00     | 5.00     | 5.00     | 0.00     | -        | -        | -        | ...      | -        | -        | -        | -        | -        | -        | -        | -        | 30.00    | 3af48cdc | \n",
       "| 5.00     | 0.00     | 5.00     | 5.00     | -        | 0.00     | 0.00     | 0.00     | 5.00     | -        | ...      | -        | -        | -        | -        | -        | -        | -        | -        | 20.00    | 1b121cc  | \n",
       "| 5.00     | -        | 5.00     | -        | -        | -        | -        | -        | -        | -        | ...      | 2.00     | 0.00     | 5.00     | -        | -        | 0.00     | 0.00     | -        | 22.00    | 1e948aad | \n",
       "| 5.00     | 5.00     | 1.25     | 0.00     | 2.00     | -        | -        | -        | -        | 1.25     | ...      | -        | -        | 2.50     | 0.00     | 5.00     | -        | -        | -        | 22.00    | 5951f677 | \n",
       "| 0.00     | 0.00     | 3.75     | -        | -        | -        | -        | 0.00     | 0.00     | -        | ...      | 2.00     | 2.00     | -        | -        | 0.00     | -        | -        | -        | 12.75    | 70a19518 | \n",
       "| 5.00     | 5.00     | 2.50     | 5.00     | 0.00     | -        | -        | 5.00     | -        | -        | ...      | 0.00     | 0.00     | -        | -        | -        | 0.00     | -        | -        | 22.50    | d1ad0952 | \n",
       "| -        | -        | 1.25     | 5.00     | 2.00     | -        | -        | 5.00     | 0.00     | 1.25     | ...      | -        | -        | 2.50     | -        | 5.00     | 0.00     | -        | 0.00     | 22.00    | 50bf1ff5 | \n",
       "| 2.50     | 5.00     | -        | -        | -        | -        | -        | 0.00     | 5.00     | 1.25     | ...      | -        | 0.00     | 5.00     | 0.00     | 0.00     | 0.00     | -        | -        | 23.75    | b5340aea | \n",
       "| 5.00     | 0.00     | 0.00     | 0.00     | -        | 0.00     | 0.00     | 0.00     | -        | -        | ...      | -        | -        | -        | 0.00     | 0.00     | 0.00     | -        | 0.00     |  5.00    | 578e2474 | \n",
       "| 5.00     | 0.00     | 1.25     | -        | -        | -        | 0.00     | 0.00     | 2.50     | -        | ...      | -        | -        | 2.50     | 0.00     | 5.00     | 0.00     | -        | 0.00     | 16.25    | 71ece9d1 | \n",
       "| 5.00     | 0.00     | 2.50     | -        | -        | -        | 0.00     | 0.00     | 0.00     | 0.00     | ...      | 5.00     | 0.00     | -        | 0.00     | -        | 0.00     | -        | -        | 13.50    | a89a154d | \n",
       "| 2.50     | 5.00     | 2.50     | 0.00     | -        | -        | 5.00     | 5.00     | 0.00     | -        | ...      | -        | -        | 0.00     | 0.00     | 0.00     | 0.00     | -        | -        | 20.00    | af8a2bf6 | \n",
       "| 5.00     | 0.00     | 2.50     | 0.00     | -        | -        | 5.00     | 5.00     | 5.00     | -        | ...      | 0.00     | -        | -        | 0.00     | 0.00     | -        | -        | -        | 24.50    | bb3a4383 | \n",
       "| 0.00     | 0.00     | -        | 0.00     | -        | 2.50     | 0.00     | -        | 2.50     | 1.25     | ...      | 0.00     | -        | -        | 5.00     | 0.00     | 0.00     | 0.00     | 0.00     | 11.25    | f69806fb | \n",
       "| 5.00     | 0.00     | 2.50     | 5.00     | -        | 5.00     | 0.00     | 0.00     | 2.50     | 0.00     | ...      | -        | -        | -        | 0.00     | 0.00     | 0.00     | 0.00     | 0.00     | 25.00    | db441586 | \n",
       "\n",
       "\n"
      ],
      "text/plain": [
       "   Q1   Q3   N3   Q5   Q6   Q7   N7   Q9   Q10  N10  ... Q13  Q14  Q15  Q16 \n",
       "1  -    -    -    -    -    -    -    -    -    -    ... -    -    -    -   \n",
       "2  -    -    -    -    -    -    -    -    -    -    ... -    -    -    -   \n",
       "3  -    0.00 -    -    -    -    5.00 -    -    -    ... -    -    -    -   \n",
       "4  -    0.00 -    -    -    -    -    0.00 -    -    ... -    -    -    -   \n",
       "5  5.00 5.00 -    -    -    -    -    -    -    -    ... -    -    -    -   \n",
       "6  5.00 0.00 -    -    -    -    -    -    -    -    ... -    -    -    -   \n",
       "7  0.00 0.00 2.50 -    -    -    -    -    -    -    ... -    -    -    -   \n",
       "8  5.00 0.00 1.25 -    -    -    -    -    -    -    ... -    -    -    -   \n",
       "9  5.00 5.00 3.75 -    -    -    -    -    -    -    ... -    -    -    -   \n",
       "10 5.00 0.00 1.25 -    -    -    -    -    -    -    ... -    -    -    -   \n",
       "11 2.50 5.00 -    -    -    -    -    -    -    -    ... -    -    -    5.00\n",
       "12 5.00 5.00 5.00 5.00 -    -    -    -    -    -    ... -    -    -    -   \n",
       "13 5.00 5.00 5.00 5.00 -    -    -    -    -    -    ... -    -    -    -   \n",
       "14 5.00 0.00 0.00 0.00 -    -    -    -    -    -    ... -    -    -    -   \n",
       "15 5.00 -    1.25 5.00 2.00 -    -    -    -    -    ... -    -    -    -   \n",
       "16 0.00 0.00 1.25 -    0.00 -    -    -    -    -    ... -    -    -    -   \n",
       "17 2.50 0.00 1.25 -    -    5.00 -    -    -    -    ... -    -    -    -   \n",
       "18 2.50 -    -    -    -    5.00 0.00 -    -    -    ... -    -    -    -   \n",
       "19 5.00 5.00 5.00 5.00 5.00 5.00 0.00 -    -    -    ... -    -    -    -   \n",
       "20 5.00 0.00 5.00 5.00 -    0.00 0.00 0.00 5.00 -    ... -    -    -    -   \n",
       "21 5.00 -    5.00 -    -    -    -    -    -    -    ... 2.00 0.00 5.00 -   \n",
       "22 5.00 5.00 1.25 0.00 2.00 -    -    -    -    1.25 ... -    -    2.50 0.00\n",
       "23 0.00 0.00 3.75 -    -    -    -    0.00 0.00 -    ... 2.00 2.00 -    -   \n",
       "24 5.00 5.00 2.50 5.00 0.00 -    -    5.00 -    -    ... 0.00 0.00 -    -   \n",
       "25 -    -    1.25 5.00 2.00 -    -    5.00 0.00 1.25 ... -    -    2.50 -   \n",
       "26 2.50 5.00 -    -    -    -    -    0.00 5.00 1.25 ... -    0.00 5.00 0.00\n",
       "27 5.00 0.00 0.00 0.00 -    0.00 0.00 0.00 -    -    ... -    -    -    0.00\n",
       "28 5.00 0.00 1.25 -    -    -    0.00 0.00 2.50 -    ... -    -    2.50 0.00\n",
       "29 5.00 0.00 2.50 -    -    -    0.00 0.00 0.00 0.00 ... 5.00 0.00 -    0.00\n",
       "30 2.50 5.00 2.50 0.00 -    -    5.00 5.00 0.00 -    ... -    -    0.00 0.00\n",
       "31 5.00 0.00 2.50 0.00 -    -    5.00 5.00 5.00 -    ... 0.00 -    -    0.00\n",
       "32 0.00 0.00 -    0.00 -    2.50 0.00 -    2.50 1.25 ... 0.00 -    -    5.00\n",
       "33 5.00 0.00 2.50 5.00 -    5.00 0.00 0.00 2.50 0.00 ... -    -    -    0.00\n",
       "   Q17  Q18  Q19  Q20  Total AnonID  \n",
       "1  -    -    -    -     0.00 5d9671ea\n",
       "2  -    -    -    -     0.00 86f35c2f\n",
       "3  -    -    -    -     5.00 25c3a4a9\n",
       "4  -    -    -    -     0.00 9a536419\n",
       "5  -    -    -    -    10.00 dd8defb6\n",
       "6  -    -    -    -     5.00 fe4057d5\n",
       "7  -    -    -    -     2.50 11f6720d\n",
       "8  -    -    -    -     6.25 19b9f7f6\n",
       "9  -    -    -    -    13.75 64826c73\n",
       "10 -    -    -    -     6.25 8e7cab64\n",
       "11 -    -    -    -    12.50 d7cad492\n",
       "12 -    -    -    -    20.00 5256ce3c\n",
       "13 -    -    -    -    20.00 592140a5\n",
       "14 -    -    -    -     5.00 81ea16f5\n",
       "15 -    -    -    -    13.25 972fe4b9\n",
       "16 -    -    -    -     1.25 d2a9659d\n",
       "17 -    -    -    -     8.75 86509c8a\n",
       "18 0.00 -    -    0.00  7.50 a8e81e4b\n",
       "19 -    -    -    -    30.00 3af48cdc\n",
       "20 -    -    -    -    20.00 1b121cc \n",
       "21 -    0.00 0.00 -    22.00 1e948aad\n",
       "22 5.00 -    -    -    22.00 5951f677\n",
       "23 0.00 -    -    -    12.75 70a19518\n",
       "24 -    0.00 -    -    22.50 d1ad0952\n",
       "25 5.00 0.00 -    0.00 22.00 50bf1ff5\n",
       "26 0.00 0.00 -    -    23.75 b5340aea\n",
       "27 0.00 0.00 -    0.00  5.00 578e2474\n",
       "28 5.00 0.00 -    0.00 16.25 71ece9d1\n",
       "29 -    0.00 -    -    13.50 a89a154d\n",
       "30 0.00 0.00 -    -    20.00 af8a2bf6\n",
       "31 0.00 -    -    -    24.50 bb3a4383\n",
       "32 0.00 0.00 0.00 0.00 11.25 f69806fb\n",
       "33 0.00 0.00 0.00 0.00 25.00 db441586"
      ]
     },
     "metadata": {},
     "output_type": "display_data"
    }
   ],
   "source": [
    "# Factor version scores of the removed student\n",
    "# Sorted by number of '-'\n",
    "arrange(mdt17fac_nodup[row.names(mdt17_rm_legacy),], rowSums(mdt17fac_nodup[row.names(mdt17_rm_legacy),]!='-'))"
   ]
  },
  {
   "cell_type": "code",
   "execution_count": 13,
   "metadata": {},
   "outputs": [
    {
     "name": "stdout",
     "output_type": "stream",
     "text": [
      "% latex table generated in R 3.4.3 by xtable 1.8-2 package\n",
      "% Fri Sep 21 12:39:57 2018\n",
      "\\begin{table}[ht]\n",
      "\\centering\n",
      "\\begin{tabular}{rr}\n",
      "  \\hline\n",
      " & No. \\\\ \n",
      "  \\hline\n",
      "1 & 926 \\\\ \n",
      "  2 & 917 \\\\ \n",
      "  3 &  30 \\\\ \n",
      "  4 &  21 \\\\ \n",
      "  5 & 896 \\\\ \n",
      "   \\hline\n",
      "\\end{tabular}\n",
      "\\end{table}\n"
     ]
    }
   ],
   "source": [
    "# LaTeX: tab:EDA_count_clean\n",
    "print(xtable(data.frame(No.=c(nrow(mdt17fac), \n",
    "                              nrow(mdt17fac_nodup), \n",
    "                              nrow(mdt17fac)-nrow(mdt17_clean), \n",
    "                              nrow(mdt17_rm), \n",
    "                              nrow(mdt17_clean)))))"
   ]
  },
  {
   "cell_type": "code",
   "execution_count": 22,
   "metadata": {},
   "outputs": [
    {
     "data": {
      "text/html": [
       "<table>\n",
       "<thead><tr><th></th><th scope=col>Value</th></tr></thead>\n",
       "<tbody>\n",
       "\t<tr><th scope=row>Min.</th><td>  5.00000</td></tr>\n",
       "\t<tr><th scope=row>1st Qu.</th><td> 59.50000</td></tr>\n",
       "\t<tr><th scope=row>Median</th><td> 73.75000</td></tr>\n",
       "\t<tr><th scope=row>Mean</th><td> 70.60683</td></tr>\n",
       "\t<tr><th scope=row>3rd Qu.</th><td> 85.00000</td></tr>\n",
       "\t<tr><th scope=row>Max</th><td>100.00000</td></tr>\n",
       "\t<tr><th scope=row>Stand. Dev.</th><td> 18.46371</td></tr>\n",
       "</tbody>\n",
       "</table>\n"
      ],
      "text/latex": [
       "\\begin{tabular}{r|l}\n",
       "  & Value\\\\\n",
       "\\hline\n",
       "\tMin. &   5.00000\\\\\n",
       "\t1st Qu. &  59.50000\\\\\n",
       "\tMedian &  73.75000\\\\\n",
       "\tMean &  70.60683\\\\\n",
       "\t3rd Qu. &  85.00000\\\\\n",
       "\tMax & 100.00000\\\\\n",
       "\tStand. Dev. &  18.46371\\\\\n",
       "\\end{tabular}\n"
      ],
      "text/markdown": [
       "\n",
       "| <!--/--> | Value | \n",
       "|---|---|---|---|---|---|---|\n",
       "| Min. |   5.00000 | \n",
       "| 1st Qu. |  59.50000 | \n",
       "| Median |  73.75000 | \n",
       "| Mean |  70.60683 | \n",
       "| 3rd Qu. |  85.00000 | \n",
       "| Max | 100.00000 | \n",
       "| Stand. Dev. |  18.46371 | \n",
       "\n",
       "\n"
      ],
      "text/plain": [
       "            Value    \n",
       "Min.          5.00000\n",
       "1st Qu.      59.50000\n",
       "Median       73.75000\n",
       "Mean         70.60683\n",
       "3rd Qu.      85.00000\n",
       "Max         100.00000\n",
       "Stand. Dev.  18.46371"
      ]
     },
     "metadata": {},
     "output_type": "display_data"
    },
    {
     "data": {
      "text/html": [
       "<table>\n",
       "<thead><tr><th></th><th scope=col>Value</th></tr></thead>\n",
       "<tbody>\n",
       "\t<tr><th scope=row>Min.</th><td>  2.25000</td></tr>\n",
       "\t<tr><th scope=row>1st Qu.</th><td> 59.50000</td></tr>\n",
       "\t<tr><th scope=row>Median</th><td> 74.00000</td></tr>\n",
       "\t<tr><th scope=row>Mean</th><td> 70.81913</td></tr>\n",
       "\t<tr><th scope=row>3rd Qu.</th><td> 84.53250</td></tr>\n",
       "\t<tr><th scope=row>Max</th><td>100.00000</td></tr>\n",
       "\t<tr><th scope=row>Stand. Dev.</th><td> 18.27066</td></tr>\n",
       "</tbody>\n",
       "</table>\n"
      ],
      "text/latex": [
       "\\begin{tabular}{r|l}\n",
       "  & Value\\\\\n",
       "\\hline\n",
       "\tMin. &   2.25000\\\\\n",
       "\t1st Qu. &  59.50000\\\\\n",
       "\tMedian &  74.00000\\\\\n",
       "\tMean &  70.81913\\\\\n",
       "\t3rd Qu. &  84.53250\\\\\n",
       "\tMax & 100.00000\\\\\n",
       "\tStand. Dev. &  18.27066\\\\\n",
       "\\end{tabular}\n"
      ],
      "text/markdown": [
       "\n",
       "| <!--/--> | Value | \n",
       "|---|---|---|---|---|---|---|\n",
       "| Min. |   2.25000 | \n",
       "| 1st Qu. |  59.50000 | \n",
       "| Median |  74.00000 | \n",
       "| Mean |  70.81913 | \n",
       "| 3rd Qu. |  84.53250 | \n",
       "| Max | 100.00000 | \n",
       "| Stand. Dev. |  18.27066 | \n",
       "\n",
       "\n"
      ],
      "text/plain": [
       "            Value    \n",
       "Min.          2.25000\n",
       "1st Qu.      59.50000\n",
       "Median       74.00000\n",
       "Mean         70.81913\n",
       "3rd Qu.      84.53250\n",
       "Max         100.00000\n",
       "Stand. Dev.  18.27066"
      ]
     },
     "metadata": {},
     "output_type": "display_data"
    },
    {
     "name": "stdout",
     "output_type": "stream",
     "text": [
      "% latex table generated in R 3.4.3 by xtable 1.8-2 package\n",
      "% Mon Feb 04 17:07:59 2019\n",
      "\\begin{table}[ht]\n",
      "\\centering\n",
      "\\begin{tabular}{rr}\n",
      "  \\hline\n",
      " & Value \\\\ \n",
      "  \\hline\n",
      "Min. & 5.00 \\\\ \n",
      "  1st Qu. & 59.50 \\\\ \n",
      "  Median & 73.75 \\\\ \n",
      "  Mean & 70.61 \\\\ \n",
      "  3rd Qu. & 85.00 \\\\ \n",
      "  Max & 100.00 \\\\ \n",
      "  Stand. Dev. & 18.46 \\\\ \n",
      "   \\hline\n",
      "\\end{tabular}\n",
      "\\end{table}\n"
     ]
    }
   ],
   "source": [
    "tableGen(mdt17_clean$Total)\n",
    "tableGen(mdt18_clean$Total)\n",
    "# LaTeX: tab:EDA_dsc_17clean\n",
    "print(xtable(tableGen(mdt17_clean$Total), digits=c(0,2)))"
   ]
  },
  {
   "cell_type": "code",
   "execution_count": 24,
   "metadata": {},
   "outputs": [
    {
     "name": "stderr",
     "output_type": "stream",
     "text": [
      "Warning message:\n",
      "\"Removed 1 rows containing missing values (geom_bar).\""
     ]
    },
    {
     "data": {},
     "metadata": {},
     "output_type": "display_data"
    },
    {
     "name": "stderr",
     "output_type": "stream",
     "text": [
      "Warning message:\n",
      "\"Removed 1 rows containing missing values (geom_bar).\""
     ]
    },
    {
     "data": {},
     "metadata": {},
     "output_type": "display_data"
    },
    {
     "data": {
      "image/png": "[encoded data removed]",
      "text/plain": [
       "plot without title"
      ]
     },
     "metadata": {},
     "output_type": "display_data"
    },
    {
     "name": "stderr",
     "output_type": "stream",
     "text": [
      "Warning message:\n",
      "\"Removed 1 rows containing missing values (geom_bar).\""
     ]
    },
    {
     "data": {},
     "metadata": {},
     "output_type": "display_data"
    },
    {
     "data": {
      "image/png": "[encoded data removed]",
      "text/plain": [
       "plot without title"
      ]
     },
     "metadata": {},
     "output_type": "display_data"
    },
    {
     "data": {
      "image/png": "[encoded data removed]",
      "text/plain": [
       "plot without title"
      ]
     },
     "metadata": {},
     "output_type": "display_data"
    }
   ],
   "source": [
    "# pdf(\"../fig/EDA_hist_17clean.pdf\", width=7, height=4)\n",
    "histplot(mdt17_clean, 'Greens', title='Data after Cleaning 2017')\n",
    "histplot(mdt18_clean, 'Greens', title='Data after Cleaning 2018')\n",
    "histplot(rbind(mdt17_clean,mdt18_clean), 'Greens', title='Data after Cleaning 2017 and 2018')\n",
    "# dev.off()"
   ]
  },
  {
   "cell_type": "code",
   "execution_count": 16,
   "metadata": {},
   "outputs": [
    {
     "name": "stdout",
     "output_type": "stream",
     "text": [
      "% latex table generated in R 3.4.3 by xtable 1.8-2 package\n",
      "% Fri Sep 21 12:39:58 2018\n",
      "\\begin{table}[ht]\n",
      "\\centering\n",
      "\\begin{tabular}{rcccccccc}\n",
      "  \\hline\n",
      "  \\hline\n",
      "Valid.Response & 2 & 4 & 5 & 6 & 7 & 9 & 10 & 11 \\\\ \n",
      "  Freq & 2 & 4 & 5 & 5 & 2 & 1 & 1 & 1 \\\\ \n",
      "   \\hline\n",
      "\\end{tabular}\n",
      "\\end{table}\n"
     ]
    }
   ],
   "source": [
    "# LaTeX: tab:EDA_validresp\n",
    "print(xtable(t(as.data.frame(table(Valid.Response=rowSums(mdt17fac_nodup[row.names(mdt17_rm),]!='-')))), \n",
    "             align=c('r', rep('c',8))), \n",
    "      include.colnames=F)"
   ]
  },
  {
   "cell_type": "code",
   "execution_count": 17,
   "metadata": {},
   "outputs": [
    {
     "data": {
      "text/html": [
       "<table>\n",
       "<thead><tr><th scope=col>Q1</th><th scope=col>Q3</th><th scope=col>N3</th><th scope=col>Q5</th><th scope=col>Q6</th><th scope=col>Q7</th><th scope=col>N7</th><th scope=col>Q9</th><th scope=col>Q10</th><th scope=col>N10</th><th scope=col>⋯</th><th scope=col>Q13</th><th scope=col>Q14</th><th scope=col>Q15</th><th scope=col>Q16</th><th scope=col>Q17</th><th scope=col>Q18</th><th scope=col>Q19</th><th scope=col>Q20</th><th scope=col>Total</th><th scope=col>AnonID</th></tr></thead>\n",
       "<tbody>\n",
       "\t<tr><td>-       </td><td>-       </td><td>-       </td><td>-       </td><td>-       </td><td>-       </td><td>-       </td><td>-       </td><td>-       </td><td>-       </td><td>⋯       </td><td>-       </td><td>-       </td><td>-       </td><td>-       </td><td>-       </td><td>-       </td><td>-       </td><td>-       </td><td> 0.00   </td><td>5d9671ea</td></tr>\n",
       "\t<tr><td>-       </td><td>-       </td><td>-       </td><td>-       </td><td>-       </td><td>-       </td><td>-       </td><td>-       </td><td>-       </td><td>-       </td><td>⋯       </td><td>-       </td><td>-       </td><td>-       </td><td>-       </td><td>-       </td><td>-       </td><td>-       </td><td>-       </td><td> 0.00   </td><td>86f35c2f</td></tr>\n",
       "\t<tr><td>-       </td><td>0.00    </td><td>-       </td><td>-       </td><td>-       </td><td>-       </td><td>5.00    </td><td>-       </td><td>-       </td><td>-       </td><td>⋯       </td><td>-       </td><td>-       </td><td>-       </td><td>-       </td><td>-       </td><td>-       </td><td>-       </td><td>-       </td><td> 5.00   </td><td>25c3a4a9</td></tr>\n",
       "\t<tr><td>-       </td><td>0.00    </td><td>-       </td><td>-       </td><td>-       </td><td>-       </td><td>-       </td><td>0.00    </td><td>-       </td><td>-       </td><td>⋯       </td><td>-       </td><td>-       </td><td>-       </td><td>-       </td><td>-       </td><td>-       </td><td>-       </td><td>-       </td><td> 0.00   </td><td>9a536419</td></tr>\n",
       "\t<tr><td>5.00    </td><td>5.00    </td><td>-       </td><td>-       </td><td>-       </td><td>-       </td><td>-       </td><td>-       </td><td>-       </td><td>-       </td><td>⋯       </td><td>-       </td><td>-       </td><td>-       </td><td>-       </td><td>-       </td><td>-       </td><td>-       </td><td>-       </td><td>10.00   </td><td>dd8defb6</td></tr>\n",
       "\t<tr><td>5.00    </td><td>0.00    </td><td>-       </td><td>-       </td><td>-       </td><td>-       </td><td>-       </td><td>-       </td><td>-       </td><td>-       </td><td>⋯       </td><td>-       </td><td>-       </td><td>-       </td><td>-       </td><td>-       </td><td>-       </td><td>-       </td><td>-       </td><td> 5.00   </td><td>fe4057d5</td></tr>\n",
       "\t<tr><td>0.00    </td><td>0.00    </td><td>2.50    </td><td>-       </td><td>-       </td><td>-       </td><td>-       </td><td>-       </td><td>-       </td><td>-       </td><td>⋯       </td><td>-       </td><td>-       </td><td>-       </td><td>-       </td><td>-       </td><td>-       </td><td>-       </td><td>-       </td><td> 2.50   </td><td>11f6720d</td></tr>\n",
       "\t<tr><td>5.00    </td><td>0.00    </td><td>1.25    </td><td>-       </td><td>-       </td><td>-       </td><td>-       </td><td>-       </td><td>-       </td><td>-       </td><td>⋯       </td><td>-       </td><td>-       </td><td>-       </td><td>-       </td><td>-       </td><td>-       </td><td>-       </td><td>-       </td><td> 6.25   </td><td>19b9f7f6</td></tr>\n",
       "\t<tr><td>5.00    </td><td>5.00    </td><td>3.75    </td><td>-       </td><td>-       </td><td>-       </td><td>-       </td><td>-       </td><td>-       </td><td>-       </td><td>⋯       </td><td>-       </td><td>-       </td><td>-       </td><td>-       </td><td>-       </td><td>-       </td><td>-       </td><td>-       </td><td>13.75   </td><td>64826c73</td></tr>\n",
       "\t<tr><td>5.00    </td><td>0.00    </td><td>1.25    </td><td>-       </td><td>-       </td><td>-       </td><td>-       </td><td>-       </td><td>-       </td><td>-       </td><td>⋯       </td><td>-       </td><td>-       </td><td>-       </td><td>-       </td><td>-       </td><td>-       </td><td>-       </td><td>-       </td><td> 6.25   </td><td>8e7cab64</td></tr>\n",
       "\t<tr><td>2.50    </td><td>5.00    </td><td>-       </td><td>-       </td><td>-       </td><td>-       </td><td>-       </td><td>-       </td><td>-       </td><td>-       </td><td>⋯       </td><td>-       </td><td>-       </td><td>-       </td><td>5.00    </td><td>-       </td><td>-       </td><td>-       </td><td>-       </td><td>12.50   </td><td>d7cad492</td></tr>\n",
       "\t<tr><td>5.00    </td><td>5.00    </td><td>5.00    </td><td>5.00    </td><td>-       </td><td>-       </td><td>-       </td><td>-       </td><td>-       </td><td>-       </td><td>⋯       </td><td>-       </td><td>-       </td><td>-       </td><td>-       </td><td>-       </td><td>-       </td><td>-       </td><td>-       </td><td>20.00   </td><td>5256ce3c</td></tr>\n",
       "\t<tr><td>5.00    </td><td>5.00    </td><td>5.00    </td><td>5.00    </td><td>-       </td><td>-       </td><td>-       </td><td>-       </td><td>-       </td><td>-       </td><td>⋯       </td><td>-       </td><td>-       </td><td>-       </td><td>-       </td><td>-       </td><td>-       </td><td>-       </td><td>-       </td><td>20.00   </td><td>592140a5</td></tr>\n",
       "\t<tr><td>5.00    </td><td>0.00    </td><td>0.00    </td><td>0.00    </td><td>-       </td><td>-       </td><td>-       </td><td>-       </td><td>-       </td><td>-       </td><td>⋯       </td><td>-       </td><td>-       </td><td>-       </td><td>-       </td><td>-       </td><td>-       </td><td>-       </td><td>-       </td><td> 5.00   </td><td>81ea16f5</td></tr>\n",
       "\t<tr><td>5.00    </td><td>-       </td><td>1.25    </td><td>5.00    </td><td>2.00    </td><td>-       </td><td>-       </td><td>-       </td><td>-       </td><td>-       </td><td>⋯       </td><td>-       </td><td>-       </td><td>-       </td><td>-       </td><td>-       </td><td>-       </td><td>-       </td><td>-       </td><td>13.25   </td><td>972fe4b9</td></tr>\n",
       "\t<tr><td>0.00    </td><td>0.00    </td><td>1.25    </td><td>-       </td><td>0.00    </td><td>-       </td><td>-       </td><td>-       </td><td>-       </td><td>-       </td><td>⋯       </td><td>-       </td><td>-       </td><td>-       </td><td>-       </td><td>-       </td><td>-       </td><td>-       </td><td>-       </td><td> 1.25   </td><td>d2a9659d</td></tr>\n",
       "\t<tr><td>2.50    </td><td>0.00    </td><td>1.25    </td><td>-       </td><td>-       </td><td>5.00    </td><td>-       </td><td>-       </td><td>-       </td><td>-       </td><td>⋯       </td><td>-       </td><td>-       </td><td>-       </td><td>-       </td><td>-       </td><td>-       </td><td>-       </td><td>-       </td><td> 8.75   </td><td>86509c8a</td></tr>\n",
       "\t<tr><td>2.50    </td><td>-       </td><td>-       </td><td>-       </td><td>-       </td><td>5.00    </td><td>0.00    </td><td>-       </td><td>-       </td><td>-       </td><td>⋯       </td><td>-       </td><td>-       </td><td>-       </td><td>-       </td><td>0.00    </td><td>-       </td><td>-       </td><td>0.00    </td><td> 7.50   </td><td>a8e81e4b</td></tr>\n",
       "\t<tr><td>5.00    </td><td>5.00    </td><td>5.00    </td><td>5.00    </td><td>5.00    </td><td>5.00    </td><td>0.00    </td><td>-       </td><td>-       </td><td>-       </td><td>⋯       </td><td>-       </td><td>-       </td><td>-       </td><td>-       </td><td>-       </td><td>-       </td><td>-       </td><td>-       </td><td>30.00   </td><td>3af48cdc</td></tr>\n",
       "\t<tr><td>5.00    </td><td>0.00    </td><td>5.00    </td><td>5.00    </td><td>-       </td><td>0.00    </td><td>0.00    </td><td>0.00    </td><td>5.00    </td><td>-       </td><td>⋯       </td><td>-       </td><td>-       </td><td>-       </td><td>-       </td><td>-       </td><td>-       </td><td>-       </td><td>-       </td><td>20.00   </td><td>1b121cc </td></tr>\n",
       "\t<tr><td>5.00    </td><td>5.00    </td><td>2.50    </td><td>5.00    </td><td>0.00    </td><td>-       </td><td>-       </td><td>5.00    </td><td>-       </td><td>-       </td><td>⋯       </td><td>0.00    </td><td>0.00    </td><td>-       </td><td>-       </td><td>-       </td><td>0.00    </td><td>-       </td><td>-       </td><td>22.50   </td><td>d1ad0952</td></tr>\n",
       "</tbody>\n",
       "</table>\n"
      ],
      "text/latex": [
       "\\begin{tabular}{r|llllllllllllllllllllll}\n",
       " Q1 & Q3 & N3 & Q5 & Q6 & Q7 & N7 & Q9 & Q10 & N10 & ⋯ & Q13 & Q14 & Q15 & Q16 & Q17 & Q18 & Q19 & Q20 & Total & AnonID\\\\\n",
       "\\hline\n",
       "\t -        & -        & -        & -        & -        & -        & -        & -        & -        & -        & ⋯        & -        & -        & -        & -        & -        & -        & -        & -        &  0.00    & 5d9671ea\\\\\n",
       "\t -        & -        & -        & -        & -        & -        & -        & -        & -        & -        & ⋯        & -        & -        & -        & -        & -        & -        & -        & -        &  0.00    & 86f35c2f\\\\\n",
       "\t -        & 0.00     & -        & -        & -        & -        & 5.00     & -        & -        & -        & ⋯        & -        & -        & -        & -        & -        & -        & -        & -        &  5.00    & 25c3a4a9\\\\\n",
       "\t -        & 0.00     & -        & -        & -        & -        & -        & 0.00     & -        & -        & ⋯        & -        & -        & -        & -        & -        & -        & -        & -        &  0.00    & 9a536419\\\\\n",
       "\t 5.00     & 5.00     & -        & -        & -        & -        & -        & -        & -        & -        & ⋯        & -        & -        & -        & -        & -        & -        & -        & -        & 10.00    & dd8defb6\\\\\n",
       "\t 5.00     & 0.00     & -        & -        & -        & -        & -        & -        & -        & -        & ⋯        & -        & -        & -        & -        & -        & -        & -        & -        &  5.00    & fe4057d5\\\\\n",
       "\t 0.00     & 0.00     & 2.50     & -        & -        & -        & -        & -        & -        & -        & ⋯        & -        & -        & -        & -        & -        & -        & -        & -        &  2.50    & 11f6720d\\\\\n",
       "\t 5.00     & 0.00     & 1.25     & -        & -        & -        & -        & -        & -        & -        & ⋯        & -        & -        & -        & -        & -        & -        & -        & -        &  6.25    & 19b9f7f6\\\\\n",
       "\t 5.00     & 5.00     & 3.75     & -        & -        & -        & -        & -        & -        & -        & ⋯        & -        & -        & -        & -        & -        & -        & -        & -        & 13.75    & 64826c73\\\\\n",
       "\t 5.00     & 0.00     & 1.25     & -        & -        & -        & -        & -        & -        & -        & ⋯        & -        & -        & -        & -        & -        & -        & -        & -        &  6.25    & 8e7cab64\\\\\n",
       "\t 2.50     & 5.00     & -        & -        & -        & -        & -        & -        & -        & -        & ⋯        & -        & -        & -        & 5.00     & -        & -        & -        & -        & 12.50    & d7cad492\\\\\n",
       "\t 5.00     & 5.00     & 5.00     & 5.00     & -        & -        & -        & -        & -        & -        & ⋯        & -        & -        & -        & -        & -        & -        & -        & -        & 20.00    & 5256ce3c\\\\\n",
       "\t 5.00     & 5.00     & 5.00     & 5.00     & -        & -        & -        & -        & -        & -        & ⋯        & -        & -        & -        & -        & -        & -        & -        & -        & 20.00    & 592140a5\\\\\n",
       "\t 5.00     & 0.00     & 0.00     & 0.00     & -        & -        & -        & -        & -        & -        & ⋯        & -        & -        & -        & -        & -        & -        & -        & -        &  5.00    & 81ea16f5\\\\\n",
       "\t 5.00     & -        & 1.25     & 5.00     & 2.00     & -        & -        & -        & -        & -        & ⋯        & -        & -        & -        & -        & -        & -        & -        & -        & 13.25    & 972fe4b9\\\\\n",
       "\t 0.00     & 0.00     & 1.25     & -        & 0.00     & -        & -        & -        & -        & -        & ⋯        & -        & -        & -        & -        & -        & -        & -        & -        &  1.25    & d2a9659d\\\\\n",
       "\t 2.50     & 0.00     & 1.25     & -        & -        & 5.00     & -        & -        & -        & -        & ⋯        & -        & -        & -        & -        & -        & -        & -        & -        &  8.75    & 86509c8a\\\\\n",
       "\t 2.50     & -        & -        & -        & -        & 5.00     & 0.00     & -        & -        & -        & ⋯        & -        & -        & -        & -        & 0.00     & -        & -        & 0.00     &  7.50    & a8e81e4b\\\\\n",
       "\t 5.00     & 5.00     & 5.00     & 5.00     & 5.00     & 5.00     & 0.00     & -        & -        & -        & ⋯        & -        & -        & -        & -        & -        & -        & -        & -        & 30.00    & 3af48cdc\\\\\n",
       "\t 5.00     & 0.00     & 5.00     & 5.00     & -        & 0.00     & 0.00     & 0.00     & 5.00     & -        & ⋯        & -        & -        & -        & -        & -        & -        & -        & -        & 20.00    & 1b121cc \\\\\n",
       "\t 5.00     & 5.00     & 2.50     & 5.00     & 0.00     & -        & -        & 5.00     & -        & -        & ⋯        & 0.00     & 0.00     & -        & -        & -        & 0.00     & -        & -        & 22.50    & d1ad0952\\\\\n",
       "\\end{tabular}\n"
      ],
      "text/markdown": [
       "\n",
       "Q1 | Q3 | N3 | Q5 | Q6 | Q7 | N7 | Q9 | Q10 | N10 | ⋯ | Q13 | Q14 | Q15 | Q16 | Q17 | Q18 | Q19 | Q20 | Total | AnonID | \n",
       "|---|---|---|---|---|---|---|---|---|---|---|---|---|---|---|---|---|---|---|---|---|\n",
       "| -        | -        | -        | -        | -        | -        | -        | -        | -        | -        | ⋯        | -        | -        | -        | -        | -        | -        | -        | -        |  0.00    | 5d9671ea | \n",
       "| -        | -        | -        | -        | -        | -        | -        | -        | -        | -        | ⋯        | -        | -        | -        | -        | -        | -        | -        | -        |  0.00    | 86f35c2f | \n",
       "| -        | 0.00     | -        | -        | -        | -        | 5.00     | -        | -        | -        | ⋯        | -        | -        | -        | -        | -        | -        | -        | -        |  5.00    | 25c3a4a9 | \n",
       "| -        | 0.00     | -        | -        | -        | -        | -        | 0.00     | -        | -        | ⋯        | -        | -        | -        | -        | -        | -        | -        | -        |  0.00    | 9a536419 | \n",
       "| 5.00     | 5.00     | -        | -        | -        | -        | -        | -        | -        | -        | ⋯        | -        | -        | -        | -        | -        | -        | -        | -        | 10.00    | dd8defb6 | \n",
       "| 5.00     | 0.00     | -        | -        | -        | -        | -        | -        | -        | -        | ⋯        | -        | -        | -        | -        | -        | -        | -        | -        |  5.00    | fe4057d5 | \n",
       "| 0.00     | 0.00     | 2.50     | -        | -        | -        | -        | -        | -        | -        | ⋯        | -        | -        | -        | -        | -        | -        | -        | -        |  2.50    | 11f6720d | \n",
       "| 5.00     | 0.00     | 1.25     | -        | -        | -        | -        | -        | -        | -        | ⋯        | -        | -        | -        | -        | -        | -        | -        | -        |  6.25    | 19b9f7f6 | \n",
       "| 5.00     | 5.00     | 3.75     | -        | -        | -        | -        | -        | -        | -        | ⋯        | -        | -        | -        | -        | -        | -        | -        | -        | 13.75    | 64826c73 | \n",
       "| 5.00     | 0.00     | 1.25     | -        | -        | -        | -        | -        | -        | -        | ⋯        | -        | -        | -        | -        | -        | -        | -        | -        |  6.25    | 8e7cab64 | \n",
       "| 2.50     | 5.00     | -        | -        | -        | -        | -        | -        | -        | -        | ⋯        | -        | -        | -        | 5.00     | -        | -        | -        | -        | 12.50    | d7cad492 | \n",
       "| 5.00     | 5.00     | 5.00     | 5.00     | -        | -        | -        | -        | -        | -        | ⋯        | -        | -        | -        | -        | -        | -        | -        | -        | 20.00    | 5256ce3c | \n",
       "| 5.00     | 5.00     | 5.00     | 5.00     | -        | -        | -        | -        | -        | -        | ⋯        | -        | -        | -        | -        | -        | -        | -        | -        | 20.00    | 592140a5 | \n",
       "| 5.00     | 0.00     | 0.00     | 0.00     | -        | -        | -        | -        | -        | -        | ⋯        | -        | -        | -        | -        | -        | -        | -        | -        |  5.00    | 81ea16f5 | \n",
       "| 5.00     | -        | 1.25     | 5.00     | 2.00     | -        | -        | -        | -        | -        | ⋯        | -        | -        | -        | -        | -        | -        | -        | -        | 13.25    | 972fe4b9 | \n",
       "| 0.00     | 0.00     | 1.25     | -        | 0.00     | -        | -        | -        | -        | -        | ⋯        | -        | -        | -        | -        | -        | -        | -        | -        |  1.25    | d2a9659d | \n",
       "| 2.50     | 0.00     | 1.25     | -        | -        | 5.00     | -        | -        | -        | -        | ⋯        | -        | -        | -        | -        | -        | -        | -        | -        |  8.75    | 86509c8a | \n",
       "| 2.50     | -        | -        | -        | -        | 5.00     | 0.00     | -        | -        | -        | ⋯        | -        | -        | -        | -        | 0.00     | -        | -        | 0.00     |  7.50    | a8e81e4b | \n",
       "| 5.00     | 5.00     | 5.00     | 5.00     | 5.00     | 5.00     | 0.00     | -        | -        | -        | ⋯        | -        | -        | -        | -        | -        | -        | -        | -        | 30.00    | 3af48cdc | \n",
       "| 5.00     | 0.00     | 5.00     | 5.00     | -        | 0.00     | 0.00     | 0.00     | 5.00     | -        | ⋯        | -        | -        | -        | -        | -        | -        | -        | -        | 20.00    | 1b121cc  | \n",
       "| 5.00     | 5.00     | 2.50     | 5.00     | 0.00     | -        | -        | 5.00     | -        | -        | ⋯        | 0.00     | 0.00     | -        | -        | -        | 0.00     | -        | -        | 22.50    | d1ad0952 | \n",
       "\n",
       "\n"
      ],
      "text/plain": [
       "   Q1   Q3   N3   Q5   Q6   Q7   N7   Q9   Q10  N10 ⋯ Q13  Q14  Q15 Q16  Q17 \n",
       "1  -    -    -    -    -    -    -    -    -    -   ⋯ -    -    -   -    -   \n",
       "2  -    -    -    -    -    -    -    -    -    -   ⋯ -    -    -   -    -   \n",
       "3  -    0.00 -    -    -    -    5.00 -    -    -   ⋯ -    -    -   -    -   \n",
       "4  -    0.00 -    -    -    -    -    0.00 -    -   ⋯ -    -    -   -    -   \n",
       "5  5.00 5.00 -    -    -    -    -    -    -    -   ⋯ -    -    -   -    -   \n",
       "6  5.00 0.00 -    -    -    -    -    -    -    -   ⋯ -    -    -   -    -   \n",
       "7  0.00 0.00 2.50 -    -    -    -    -    -    -   ⋯ -    -    -   -    -   \n",
       "8  5.00 0.00 1.25 -    -    -    -    -    -    -   ⋯ -    -    -   -    -   \n",
       "9  5.00 5.00 3.75 -    -    -    -    -    -    -   ⋯ -    -    -   -    -   \n",
       "10 5.00 0.00 1.25 -    -    -    -    -    -    -   ⋯ -    -    -   -    -   \n",
       "11 2.50 5.00 -    -    -    -    -    -    -    -   ⋯ -    -    -   5.00 -   \n",
       "12 5.00 5.00 5.00 5.00 -    -    -    -    -    -   ⋯ -    -    -   -    -   \n",
       "13 5.00 5.00 5.00 5.00 -    -    -    -    -    -   ⋯ -    -    -   -    -   \n",
       "14 5.00 0.00 0.00 0.00 -    -    -    -    -    -   ⋯ -    -    -   -    -   \n",
       "15 5.00 -    1.25 5.00 2.00 -    -    -    -    -   ⋯ -    -    -   -    -   \n",
       "16 0.00 0.00 1.25 -    0.00 -    -    -    -    -   ⋯ -    -    -   -    -   \n",
       "17 2.50 0.00 1.25 -    -    5.00 -    -    -    -   ⋯ -    -    -   -    -   \n",
       "18 2.50 -    -    -    -    5.00 0.00 -    -    -   ⋯ -    -    -   -    0.00\n",
       "19 5.00 5.00 5.00 5.00 5.00 5.00 0.00 -    -    -   ⋯ -    -    -   -    -   \n",
       "20 5.00 0.00 5.00 5.00 -    0.00 0.00 0.00 5.00 -   ⋯ -    -    -   -    -   \n",
       "21 5.00 5.00 2.50 5.00 0.00 -    -    5.00 -    -   ⋯ 0.00 0.00 -   -    -   \n",
       "   Q18  Q19 Q20  Total AnonID  \n",
       "1  -    -   -     0.00 5d9671ea\n",
       "2  -    -   -     0.00 86f35c2f\n",
       "3  -    -   -     5.00 25c3a4a9\n",
       "4  -    -   -     0.00 9a536419\n",
       "5  -    -   -    10.00 dd8defb6\n",
       "6  -    -   -     5.00 fe4057d5\n",
       "7  -    -   -     2.50 11f6720d\n",
       "8  -    -   -     6.25 19b9f7f6\n",
       "9  -    -   -    13.75 64826c73\n",
       "10 -    -   -     6.25 8e7cab64\n",
       "11 -    -   -    12.50 d7cad492\n",
       "12 -    -   -    20.00 5256ce3c\n",
       "13 -    -   -    20.00 592140a5\n",
       "14 -    -   -     5.00 81ea16f5\n",
       "15 -    -   -    13.25 972fe4b9\n",
       "16 -    -   -     1.25 d2a9659d\n",
       "17 -    -   -     8.75 86509c8a\n",
       "18 -    -   0.00  7.50 a8e81e4b\n",
       "19 -    -   -    30.00 3af48cdc\n",
       "20 -    -   -    20.00 1b121cc \n",
       "21 0.00 -   -    22.50 d1ad0952"
      ]
     },
     "metadata": {},
     "output_type": "display_data"
    }
   ],
   "source": [
    "arrange(mdt17fac_nodup[row.names(mdt17_rm),], rowSums(mdt17fac_nodup[row.names(mdt17_rm),]!='-'))"
   ]
  },
  {
   "cell_type": "code",
   "execution_count": 18,
   "metadata": {},
   "outputs": [
    {
     "name": "stdout",
     "output_type": "stream",
     "text": [
      "% latex table generated in R 3.4.3 by xtable 1.8-2 package\n",
      "% Fri Sep 21 12:39:58 2018\n",
      "\\begin{table}[ht]\n",
      "\\centering\n",
      "\\begin{tabular}{rccc}\n",
      "  \\hline\n",
      " & Removed by old method & Kept by old method & Sum \\\\ \n",
      "  \\hline\n",
      "Removed by new method & 21 & 0 & 21 \\\\ \n",
      "  Kept by new method & 12 & 884 & 896 \\\\ \n",
      "  Sum & 33 & 884 & 917 \\\\ \n",
      "   \\hline\n",
      "\\end{tabular}\n",
      "\\end{table}\n"
     ]
    }
   ],
   "source": [
    "## ----- Section 1.2.4 -----\n",
    "# Confusion matrix\n",
    "TP <- min(nrow(mdt17_rm), nrow(mdt17_rm_legacy))\n",
    "FN <- nrow(mdt17_rm) - TP\n",
    "FP <- nrow(mdt17_rm_legacy) - TP\n",
    "TN <- nrow(mdt17_clean) - FP\n",
    "cm <- as.table(matrix(c(TP, FP, FN, TN), ncol=2))\n",
    "rownames(cm) <- c('Removed by new method', 'Kept by new method')\n",
    "colnames(cm) <- c('Removed by old method', 'Kept by old method')\n",
    "# LaTeX: tab:EDA_cm\n",
    "print(xtable(addmargins(cm), digits=rep(0,4), align=c('r', rep('c',3))))"
   ]
  },
  {
   "cell_type": "code",
   "execution_count": 19,
   "metadata": {},
   "outputs": [
    {
     "data": {
      "text/html": [
       "0.986913849509269"
      ],
      "text/latex": [
       "0.986913849509269"
      ],
      "text/markdown": [
       "0.986913849509269"
      ],
      "text/plain": [
       "[1] 0.9869138"
      ]
     },
     "metadata": {},
     "output_type": "display_data"
    }
   ],
   "source": [
    "(ACC <- (TP+TN)/(TP+FN+FP+TN))"
   ]
  },
  {
   "cell_type": "code",
   "execution_count": 20,
   "metadata": {},
   "outputs": [
    {
     "name": "stdout",
     "output_type": "stream",
     "text": [
      "% latex table generated in R 3.4.3 by xtable 1.8-2 package\n",
      "% Fri Sep 21 12:39:58 2018\n",
      "\\begin{table}[ht]\n",
      "\\centering\n",
      "\\begin{tabular}{rrrrr}\n",
      "  \\hline\n",
      " & MDT2 (2013) & MDT2 (2014) & MDT2 (2015) & MDT2 (2016) \\\\ \n",
      "  \\hline\n",
      "Min. & 10.00 & 13.75 & 20.50 & 20.50 \\\\ \n",
      "  1st Qu. & 57.50 & 58.25 & 61.75 & 67.75 \\\\ \n",
      "  Median & 70.00 & 71.00 & 76.00 & 79.50 \\\\ \n",
      "  Mean & 68.96 & 69.56 & 72.93 & 77.15 \\\\ \n",
      "  3rd Qu. & 82.50 & 82.50 & 87.00 & 89.00 \\\\ \n",
      "  Max & 100.00 & 100.00 & 100.00 & 100.00 \\\\ \n",
      "  Stand. Dev. & 17.79 & 17.53 & 17.41 & 15.41 \\\\ \n",
      "   \\hline\n",
      "\\end{tabular}\n",
      "\\end{table}\n"
     ]
    }
   ],
   "source": [
    "## ----- Section 1.3 -----\n",
    "# LaTeX: tab:EDA_dsc_13to16_clean\n",
    "tab.13to16 <- cbind(tableGen(mdt13_clean$Total), \n",
    "                   tableGen(mdt14_clean$Total), \n",
    "                   tableGen(mdt15_clean$Total), \n",
    "                   tableGen(mdt16_clean$Total))\n",
    "colnames(tab.13to16) <- paste0('MDT2 (', 2013:2016, ')')\n",
    "print(xtable(tab.13to16, digits=c(0,rep(2,4))))"
   ]
  },
  {
   "cell_type": "code",
   "execution_count": 24,
   "metadata": {},
   "outputs": [
    {
     "name": "stderr",
     "output_type": "stream",
     "text": [
      "Warning message:\n",
      "“Removed 1 rows containing missing values (geom_bar).”Warning message:\n",
      "“Removed 1 rows containing missing values (geom_bar).”Warning message:\n",
      "“Removed 1 rows containing missing values (geom_bar).”Warning message:\n",
      "“Removed 1 rows containing missing values (geom_bar).”"
     ]
    },
    {
     "data": {},
     "metadata": {},
     "output_type": "display_data"
    },
    {
     "data": {
      "image/png": "[encoded data removed]",
      "text/plain": [
       "plot without title"
      ]
     },
     "metadata": {},
     "output_type": "display_data"
    }
   ],
   "source": [
    "p1 <- histplot(mdt13_clean, 'RdPu', title='MDT2 (2013)')\n",
    "p2 <- histplot(mdt14_clean, 'GnBu', title='MDT2 (2014)')\n",
    "p3 <- histplot(mdt15_clean, 'YlGn', title='MDT2 (2015)')\n",
    "p4 <- histplot(mdt16_clean, 'Purples', title='MDT2 (2016)')\n",
    "options(repr.plot.width  = 6, repr.plot.height = 6)\n",
    "# pdf('../fig/EDA_hist_13to16_clean.pdf', width=7, height=6, onefile=F)\n",
    "ggarrange(p1, p2, p3, p4)\n",
    "# dev.off()\n",
    "options(repr.plot.width  = 4, repr.plot.height = 3)"
   ]
  }
 ],
 "metadata": {
  "kernelspec": {
   "display_name": "R",
   "language": "R",
   "name": "ir"
  },
  "language_info": {
   "codemirror_mode": "r",
   "file_extension": ".r",
   "mimetype": "text/x-r-source",
   "name": "R",
   "pygments_lexer": "r",
   "version": "3.4.3"
  }
 },
 "nbformat": 4,
 "nbformat_minor": 2
}
